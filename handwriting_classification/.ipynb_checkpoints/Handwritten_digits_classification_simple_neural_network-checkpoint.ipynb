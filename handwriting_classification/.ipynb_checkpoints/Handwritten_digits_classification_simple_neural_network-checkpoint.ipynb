{
 "cells": [
  {
   "cell_type": "markdown",
   "metadata": {
    "id": "KXhWUhiXA8S0"
   },
   "source": [
    "## ดร. ปกรณ์ ยุบลโกศล\n",
    "\n",
    "Workshop on Artificial Nueral Networks (ANN)\n",
    "- MNIST dataset"
   ]
  },
  {
   "cell_type": "markdown",
   "metadata": {
    "id": "B6LQyZaEaWhe"
   },
   "source": [
    "ใช้ Neural Networks ทำการ classify ภาพของตัวเลข 0-9 ที่เขียนด้วยมือ (ภาพ grayscale ขนาด 28 x 28 pixel)"
   ]
  },
  {
   "cell_type": "code",
   "execution_count": 1,
   "metadata": {
    "colab": {
     "base_uri": "https://localhost:8080/",
     "height": 50
    },
    "executionInfo": {
     "elapsed": 3140,
     "status": "ok",
     "timestamp": 1601430185438,
     "user": {
      "displayName": "Pakorn Yubolkosol",
      "photoUrl": "",
      "userId": "05702960693360342905"
     },
     "user_tz": -420
    },
    "id": "oYfJyz79ZwAG",
    "outputId": "c1076661-5634-49fe-a3e5-e7b7739209c5"
   },
   "outputs": [
    {
     "name": "stderr",
     "output_type": "stream",
     "text": [
      "Using TensorFlow backend.\n"
     ]
    },
    {
     "name": "stdout",
     "output_type": "stream",
     "text": [
      "Downloading data from https://s3.amazonaws.com/img-datasets/mnist.npz\n",
      "11493376/11490434 [==============================] - 3s 0us/step\n"
     ]
    }
   ],
   "source": [
    "from keras.datasets import mnist\n",
    "\n",
    "(train_images, train_labels), (test_images, test_labels) = mnist.load_data()"
   ]
  },
  {
   "cell_type": "markdown",
   "metadata": {
    "id": "g0Op-vtUtYtF"
   },
   "source": [
    "ดูจำนวนของรูปทั้งหมดที่โหลดเข้ามา"
   ]
  },
  {
   "cell_type": "code",
   "execution_count": 2,
   "metadata": {
    "colab": {
     "base_uri": "https://localhost:8080/",
     "height": 34
    },
    "executionInfo": {
     "elapsed": 887,
     "status": "ok",
     "timestamp": 1601430188237,
     "user": {
      "displayName": "Pakorn Yubolkosol",
      "photoUrl": "",
      "userId": "05702960693360342905"
     },
     "user_tz": -420
    },
    "id": "0HN1qM5otG-J",
    "outputId": "58932a4a-f11e-42a3-e7f1-042cb64a5a6b"
   },
   "outputs": [
    {
     "data": {
      "text/plain": [
       "(60000, 28, 28)"
      ]
     },
     "execution_count": 2,
     "metadata": {},
     "output_type": "execute_result"
    }
   ],
   "source": [
    "train_images.shape"
   ]
  },
  {
   "cell_type": "markdown",
   "metadata": {
    "id": "qB0OJgtGdA8e"
   },
   "source": [
    "ทดลองสุ่มดูภาพ"
   ]
  },
  {
   "cell_type": "code",
   "execution_count": 4,
   "metadata": {
    "colab": {
     "base_uri": "https://localhost:8080/",
     "height": 265
    },
    "executionInfo": {
     "elapsed": 1012,
     "status": "ok",
     "timestamp": 1601430194901,
     "user": {
      "displayName": "Pakorn Yubolkosol",
      "photoUrl": "",
      "userId": "05702960693360342905"
     },
     "user_tz": -420
    },
    "id": "p466MMGRwUvo",
    "outputId": "7ed23096-b767-471e-cadc-ff17ef6edf2e"
   },
   "outputs": [
    {
     "data": {
      "image/png": "[encoded data removed]",
      "text/plain": [
       "<Figure size 432x288 with 1 Axes>"
      ]
     },
     "metadata": {
      "needs_background": "light"
     },
     "output_type": "display_data"
    }
   ],
   "source": [
    "digit = train_images[51]\n",
    "import matplotlib.pyplot as plt\n",
    "\n",
    "plt.imshow(digit, cmap=plt.cm.binary)\n",
    "plt.show()"
   ]
  },
  {
   "cell_type": "markdown",
   "metadata": {
    "id": "Aq25jVAnZjg7"
   },
   "source": [
    "**กำหนดโครงสร้างของ Neural Network** <br>\n",
    "1) กำหนดจำนวน node ของ input layer <br>\n",
    "2) กำหนดจำนวน hidden layer <br>\n",
    "3) กำหนดชนิดของ activation function <br>\n",
    "4) กำหนดจำนวน class ที่เป็นไปได้ <br>\n",
    "5) กำหนดวิธีที่จะใช้ในการ train <br>"
   ]
  },
  {
   "cell_type": "code",
   "execution_count": 6,
   "metadata": {
    "executionInfo": {
     "elapsed": 925,
     "status": "ok",
     "timestamp": 1601430201033,
     "user": {
      "displayName": "Pakorn Yubolkosol",
      "photoUrl": "",
      "userId": "05702960693360342905"
     },
     "user_tz": -420
    },
    "id": "JNTPFjTkaKWT"
   },
   "outputs": [],
   "source": [
    "from tensorflow.keras import models\n",
    "from tensorflow.keras import layers\n",
    "\n",
    "network = models.Sequential()\n",
    "network.add(layers.Dense(512, activation='relu', input_shape=(28*28,)))\n",
    "network.add(layers.Dense(128, activation='relu'))\n",
    "network.add(layers.Dense(10, activation = 'softmax'))"
   ]
  },
  {
   "cell_type": "code",
   "execution_count": 7,
   "metadata": {
    "executionInfo": {
     "elapsed": 878,
     "status": "ok",
     "timestamp": 1601430205629,
     "user": {
      "displayName": "Pakorn Yubolkosol",
      "photoUrl": "",
      "userId": "05702960693360342905"
     },
     "user_tz": -420
    },
    "id": "9KWwG3kAeoxn"
   },
   "outputs": [],
   "source": [
    "network.compile(optimizer='rmsprop',\n",
    "                loss='categorical_crossentropy',\n",
    "                metrics=['accuracy'])"
   ]
  },
  {
   "cell_type": "code",
   "execution_count": 8,
   "metadata": {
    "colab": {
     "base_uri": "https://localhost:8080/",
     "height": 252
    },
    "executionInfo": {
     "elapsed": 876,
     "status": "ok",
     "timestamp": 1601430210345,
     "user": {
      "displayName": "Pakorn Yubolkosol",
      "photoUrl": "",
      "userId": "05702960693360342905"
     },
     "user_tz": -420
    },
    "id": "wybqk0DlBoN4",
    "outputId": "afa455fc-f6be-4c11-e6f9-0d5c8e80a41f"
   },
   "outputs": [
    {
     "name": "stdout",
     "output_type": "stream",
     "text": [
      "Model: \"sequential\"\n",
      "_________________________________________________________________\n",
      "Layer (type)                 Output Shape              Param #   \n",
      "=================================================================\n",
      "dense (Dense)                (None, 512)               401920    \n",
      "_________________________________________________________________\n",
      "dense_1 (Dense)              (None, 128)               65664     \n",
      "_________________________________________________________________\n",
      "dense_2 (Dense)              (None, 10)                1290      \n",
      "=================================================================\n",
      "Total params: 468,874\n",
      "Trainable params: 468,874\n",
      "Non-trainable params: 0\n",
      "_________________________________________________________________\n"
     ]
    }
   ],
   "source": [
    "network.summary()"
   ]
  },
  {
   "cell_type": "markdown",
   "metadata": {
    "id": "dtuQcOB8dfm0"
   },
   "source": [
    "reshape ให้สามารถ feed ข้อมูลเข้า network ได้ โดยในที่นี้ reshape ข้อมูลรูปจาก 2 มิติ เป็น 1 มิติ"
   ]
  },
  {
   "cell_type": "code",
   "execution_count": 10,
   "metadata": {
    "executionInfo": {
     "elapsed": 958,
     "status": "ok",
     "timestamp": 1601430213462,
     "user": {
      "displayName": "Pakorn Yubolkosol",
      "photoUrl": "",
      "userId": "05702960693360342905"
     },
     "user_tz": -420
    },
    "id": "rWDcG86XfdXw"
   },
   "outputs": [],
   "source": [
    "train_images = train_images.reshape((60000, 28*28))\n",
    "train_images = train_images.astype('float32')/255\n",
    "\n",
    "test_images = test_images.reshape((10000, 28*28))\n",
    "test_images = test_images.astype('float32')/255"
   ]
  },
  {
   "cell_type": "code",
   "execution_count": 11,
   "metadata": {
    "colab": {
     "base_uri": "https://localhost:8080/",
     "height": 34
    },
    "executionInfo": {
     "elapsed": 1091,
     "status": "ok",
     "timestamp": 1601430219500,
     "user": {
      "displayName": "Pakorn Yubolkosol",
      "photoUrl": "",
      "userId": "05702960693360342905"
     },
     "user_tz": -420
    },
    "id": "0-cZQ3Sr47Gv",
    "outputId": "058c13e9-d30d-40d3-8a25-251e03c28261"
   },
   "outputs": [
    {
     "data": {
      "text/plain": [
       "(60000, 784)"
      ]
     },
     "execution_count": 11,
     "metadata": {},
     "output_type": "execute_result"
    }
   ],
   "source": [
    "train_images.shape"
   ]
  },
  {
   "cell_type": "code",
   "execution_count": 12,
   "metadata": {
    "executionInfo": {
     "elapsed": 880,
     "status": "ok",
     "timestamp": 1601430227593,
     "user": {
      "displayName": "Pakorn Yubolkosol",
      "photoUrl": "",
      "userId": "05702960693360342905"
     },
     "user_tz": -420
    },
    "id": "A2efJyhbf0nW"
   },
   "outputs": [],
   "source": [
    "from tensorflow.keras.utils import to_categorical\n",
    "\n",
    "train_labels_encoded = to_categorical(train_labels)\n",
    "test_labels_encoded = to_categorical(test_labels)"
   ]
  },
  {
   "cell_type": "markdown",
   "metadata": {
    "id": "56ZqLut_oyNU"
   },
   "source": [
    "ขั้นตอนการเทรน neurla network "
   ]
  },
  {
   "cell_type": "code",
   "execution_count": null,
   "metadata": {
    "colab": {
     "base_uri": "https://localhost:8080/",
     "height": 202
    },
    "executionInfo": {
     "elapsed": 28403,
     "status": "ok",
     "timestamp": 1601430258761,
     "user": {
      "displayName": "Pakorn Yubolkosol",
      "photoUrl": "",
      "userId": "05702960693360342905"
     },
     "user_tz": -420
    },
    "id": "iNR1F6b_jQmv",
    "outputId": "a1ee83ce-24eb-4150-ed2d-34a57265d4d4"
   },
   "outputs": [],
   "source": [
    "network.fit(train_images, train_labels_encoded, epochs=5, batch_size=128, verbose=1)"
   ]
  },
  {
   "cell_type": "markdown",
   "metadata": {
    "id": "S8UIEEpipEfY"
   },
   "source": [
    "วัดประสิทธิภาพของโมเดลด้วยข้อมูล test_images"
   ]
  },
  {
   "cell_type": "code",
   "execution_count": null,
   "metadata": {
    "colab": {
     "base_uri": "https://localhost:8080/",
     "height": 50
    },
    "executionInfo": {
     "elapsed": 1446,
     "status": "ok",
     "timestamp": 1601430268036,
     "user": {
      "displayName": "Pakorn Yubolkosol",
      "photoUrl": "",
      "userId": "05702960693360342905"
     },
     "user_tz": -420
    },
    "id": "3DEO1fHZo289",
    "outputId": "6de5c502-8c3d-49a3-dbdd-ef49bac1e7a4"
   },
   "outputs": [],
   "source": [
    "test_loss, test_acc = network.evaluate(test_images, test_labels_encoded)\n",
    "print('test_acc:', test_acc)"
   ]
  },
  {
   "cell_type": "markdown",
   "metadata": {
    "id": "NgRM3_empi9c"
   },
   "source": [
    "ทดลองทำนายรูปใหม่ ซัก 1 รูป เพื่อความมั่นใจ"
   ]
  },
  {
   "cell_type": "code",
   "execution_count": null,
   "metadata": {
    "colab": {
     "base_uri": "https://localhost:8080/",
     "height": 50
    },
    "executionInfo": {
     "elapsed": 869,
     "status": "ok",
     "timestamp": 1601430271672,
     "user": {
      "displayName": "Pakorn Yubolkosol",
      "photoUrl": "",
      "userId": "05702960693360342905"
     },
     "user_tz": -420
    },
    "id": "C8m1vLP283eA",
    "outputId": "440b99b1-038d-4c70-9822-16b6fb286847"
   },
   "outputs": [],
   "source": [
    "result = network.predict(test_images[3:4])\n",
    "print('predicted number:', result.argmax())\n",
    "print('actual number:', test_labels[3:4])"
   ]
  },
  {
   "cell_type": "code",
   "execution_count": null,
   "metadata": {},
   "outputs": [],
   "source": []
  }
 ],
 "metadata": {
  "colab": {
   "authorship_tag": "ABX9TyMJbwm4qSF+kKw1cBvQm/Xa",
   "name": "Handwritten_digits_classification_simple_neural_network.ipynb",
   "provenance": [
    {
     "file_id": "1iabQUMFJhYGbHpWt92_5c9YVFOUXwU2f",
     "timestamp": 1593657628049
    }
   ]
  },
  "kernelspec": {
   "display_name": "Python 3",
   "language": "python",
   "name": "python3"
  },
  "language_info": {
   "codemirror_mode": {
    "name": "ipython",
    "version": 3
   },
   "file_extension": ".py",
   "mimetype": "text/x-python",
   "name": "python",
   "nbconvert_exporter": "python",
   "pygments_lexer": "ipython3",
   "version": "3.6.7"
  }
 },
 "nbformat": 4,
 "nbformat_minor": 1
}
