{
 "cells": [
  {
   "cell_type": "markdown",
   "metadata": {
    "id": "ANFKwqriHuae"
   },
   "source": [
    "**โดย ดร.ปกรณ์ ยุบลโกศล** <br>\n",
    "\n",
    "Notebook นี้แสดงให้เห็นการ train -> save -> load ในโปรแกรมเดียว แต่จริงๆแล้ว จะต้องแยกโปรแกรม train&save และ โปรแกรม load โดยหลังจาก train&save โมเดลเสร็จแล้ว ใช้โปรแกรมสำหรับโหลด load โมเดลขึ้นมาเพื่อทำการทำนาย"
   ]
  },
  {
   "cell_type": "markdown",
   "metadata": {
    "id": "PGQ7jPTiR-5f"
   },
   "source": [
    "## 1) นำเข้าข้อมูล"
   ]
  },
  {
   "cell_type": "code",
   "execution_count": 1,
   "metadata": {
    "id": "RZ7NGIAjVPzH"
   },
   "outputs": [],
   "source": [
    "import pandas as pd\n",
    "#url = 'https://raw.githubusercontent.com/BU-MLearning/Summer/master/sonar.csv'\n",
    "url = 'sonar.csv'\n",
    "data = pd.read_csv(url)"
   ]
  },
  {
   "cell_type": "markdown",
   "metadata": {
    "id": "EHirNluCqEDy"
   },
   "source": [
    "สังเกตุหน้าตาข้อมูลที่ import เข้ามาว่าเป็นอย่างไรโดยใช้ `data.head()`"
   ]
  },
  {
   "cell_type": "code",
   "execution_count": 2,
   "metadata": {
    "colab": {
     "base_uri": "https://localhost:8080/",
     "height": 379
    },
    "executionInfo": {
     "elapsed": 1000,
     "status": "ok",
     "timestamp": 1603703289168,
     "user": {
      "displayName": "Pakorn Yubolkosol",
      "photoUrl": "",
      "userId": "05702960693360342905"
     },
     "user_tz": -420
    },
    "id": "emffczcNpHiA",
    "outputId": "614c3db9-a690-4234-879b-162863cd52cc"
   },
   "outputs": [],
   "source": [
    "#data.head(10)"
   ]
  },
  {
   "cell_type": "markdown",
   "metadata": {
    "id": "PMXRxHaDKh5C"
   },
   "source": [
    "ดูค่าทางสถิติเบื้องต้นของข้อมูลที่ import เข้ามา"
   ]
  },
  {
   "cell_type": "code",
   "execution_count": 3,
   "metadata": {
    "colab": {
     "base_uri": "https://localhost:8080/",
     "height": 317
    },
    "executionInfo": {
     "elapsed": 909,
     "status": "ok",
     "timestamp": 1603703293253,
     "user": {
      "displayName": "Pakorn Yubolkosol",
      "photoUrl": "",
      "userId": "05702960693360342905"
     },
     "user_tz": -420
    },
    "id": "pXtXmTqwILeS",
    "outputId": "843f8e02-5296-4529-cfe7-cee9cd1842a0"
   },
   "outputs": [
    {
     "data": {
      "text/html": [
       "<div>\n",
       "<style scoped>\n",
       "    .dataframe tbody tr th:only-of-type {\n",
       "        vertical-align: middle;\n",
       "    }\n",
       "\n",
       "    .dataframe tbody tr th {\n",
       "        vertical-align: top;\n",
       "    }\n",
       "\n",
       "    .dataframe thead th {\n",
       "        text-align: right;\n",
       "    }\n",
       "</style>\n",
       "<table border=\"1\" class=\"dataframe\">\n",
       "  <thead>\n",
       "    <tr style=\"text-align: right;\">\n",
       "      <th></th>\n",
       "      <th>attribute_1</th>\n",
       "      <th>attribute_2</th>\n",
       "      <th>attribute_3</th>\n",
       "      <th>attribute_4</th>\n",
       "      <th>attribute_5</th>\n",
       "      <th>attribute_6</th>\n",
       "      <th>attribute_7</th>\n",
       "      <th>attribute_8</th>\n",
       "      <th>attribute_9</th>\n",
       "      <th>attribute_10</th>\n",
       "      <th>...</th>\n",
       "      <th>attribute_51</th>\n",
       "      <th>attribute_52</th>\n",
       "      <th>attribute_53</th>\n",
       "      <th>attribute_54</th>\n",
       "      <th>attribute_55</th>\n",
       "      <th>attribute_56</th>\n",
       "      <th>attribute_57</th>\n",
       "      <th>attribute_58</th>\n",
       "      <th>attribute_59</th>\n",
       "      <th>attribute_60</th>\n",
       "    </tr>\n",
       "  </thead>\n",
       "  <tbody>\n",
       "    <tr>\n",
       "      <th>count</th>\n",
       "      <td>208.000000</td>\n",
       "      <td>208.000000</td>\n",
       "      <td>208.000000</td>\n",
       "      <td>208.000000</td>\n",
       "      <td>208.000000</td>\n",
       "      <td>208.000000</td>\n",
       "      <td>208.000000</td>\n",
       "      <td>208.000000</td>\n",
       "      <td>208.000000</td>\n",
       "      <td>208.000000</td>\n",
       "      <td>...</td>\n",
       "      <td>208.000000</td>\n",
       "      <td>208.000000</td>\n",
       "      <td>208.000000</td>\n",
       "      <td>208.000000</td>\n",
       "      <td>208.000000</td>\n",
       "      <td>208.000000</td>\n",
       "      <td>208.000000</td>\n",
       "      <td>208.000000</td>\n",
       "      <td>208.000000</td>\n",
       "      <td>208.000000</td>\n",
       "    </tr>\n",
       "    <tr>\n",
       "      <th>mean</th>\n",
       "      <td>0.029164</td>\n",
       "      <td>0.038437</td>\n",
       "      <td>0.043832</td>\n",
       "      <td>0.053892</td>\n",
       "      <td>0.075202</td>\n",
       "      <td>0.104570</td>\n",
       "      <td>0.121747</td>\n",
       "      <td>0.134799</td>\n",
       "      <td>0.178003</td>\n",
       "      <td>0.208259</td>\n",
       "      <td>...</td>\n",
       "      <td>0.016069</td>\n",
       "      <td>0.013420</td>\n",
       "      <td>0.010709</td>\n",
       "      <td>0.010941</td>\n",
       "      <td>0.009290</td>\n",
       "      <td>0.008222</td>\n",
       "      <td>0.007820</td>\n",
       "      <td>0.007949</td>\n",
       "      <td>0.007941</td>\n",
       "      <td>0.006507</td>\n",
       "    </tr>\n",
       "    <tr>\n",
       "      <th>std</th>\n",
       "      <td>0.022991</td>\n",
       "      <td>0.032960</td>\n",
       "      <td>0.038428</td>\n",
       "      <td>0.046528</td>\n",
       "      <td>0.055552</td>\n",
       "      <td>0.059105</td>\n",
       "      <td>0.061788</td>\n",
       "      <td>0.085152</td>\n",
       "      <td>0.118387</td>\n",
       "      <td>0.134416</td>\n",
       "      <td>...</td>\n",
       "      <td>0.012008</td>\n",
       "      <td>0.009634</td>\n",
       "      <td>0.007060</td>\n",
       "      <td>0.007301</td>\n",
       "      <td>0.007088</td>\n",
       "      <td>0.005736</td>\n",
       "      <td>0.005785</td>\n",
       "      <td>0.006470</td>\n",
       "      <td>0.006181</td>\n",
       "      <td>0.005031</td>\n",
       "    </tr>\n",
       "    <tr>\n",
       "      <th>min</th>\n",
       "      <td>0.001500</td>\n",
       "      <td>0.000600</td>\n",
       "      <td>0.001500</td>\n",
       "      <td>0.005800</td>\n",
       "      <td>0.006700</td>\n",
       "      <td>0.010200</td>\n",
       "      <td>0.003300</td>\n",
       "      <td>0.005500</td>\n",
       "      <td>0.007500</td>\n",
       "      <td>0.011300</td>\n",
       "      <td>...</td>\n",
       "      <td>0.000000</td>\n",
       "      <td>0.000800</td>\n",
       "      <td>0.000500</td>\n",
       "      <td>0.001000</td>\n",
       "      <td>0.000600</td>\n",
       "      <td>0.000400</td>\n",
       "      <td>0.000300</td>\n",
       "      <td>0.000300</td>\n",
       "      <td>0.000100</td>\n",
       "      <td>0.000600</td>\n",
       "    </tr>\n",
       "    <tr>\n",
       "      <th>25%</th>\n",
       "      <td>0.013350</td>\n",
       "      <td>0.016450</td>\n",
       "      <td>0.018950</td>\n",
       "      <td>0.024375</td>\n",
       "      <td>0.038050</td>\n",
       "      <td>0.067025</td>\n",
       "      <td>0.080900</td>\n",
       "      <td>0.080425</td>\n",
       "      <td>0.097025</td>\n",
       "      <td>0.111275</td>\n",
       "      <td>...</td>\n",
       "      <td>0.008425</td>\n",
       "      <td>0.007275</td>\n",
       "      <td>0.005075</td>\n",
       "      <td>0.005375</td>\n",
       "      <td>0.004150</td>\n",
       "      <td>0.004400</td>\n",
       "      <td>0.003700</td>\n",
       "      <td>0.003600</td>\n",
       "      <td>0.003675</td>\n",
       "      <td>0.003100</td>\n",
       "    </tr>\n",
       "    <tr>\n",
       "      <th>50%</th>\n",
       "      <td>0.022800</td>\n",
       "      <td>0.030800</td>\n",
       "      <td>0.034300</td>\n",
       "      <td>0.044050</td>\n",
       "      <td>0.062500</td>\n",
       "      <td>0.092150</td>\n",
       "      <td>0.106950</td>\n",
       "      <td>0.112100</td>\n",
       "      <td>0.152250</td>\n",
       "      <td>0.182400</td>\n",
       "      <td>...</td>\n",
       "      <td>0.013900</td>\n",
       "      <td>0.011400</td>\n",
       "      <td>0.009550</td>\n",
       "      <td>0.009300</td>\n",
       "      <td>0.007500</td>\n",
       "      <td>0.006850</td>\n",
       "      <td>0.005950</td>\n",
       "      <td>0.005800</td>\n",
       "      <td>0.006400</td>\n",
       "      <td>0.005300</td>\n",
       "    </tr>\n",
       "    <tr>\n",
       "      <th>75%</th>\n",
       "      <td>0.035550</td>\n",
       "      <td>0.047950</td>\n",
       "      <td>0.057950</td>\n",
       "      <td>0.064500</td>\n",
       "      <td>0.100275</td>\n",
       "      <td>0.134125</td>\n",
       "      <td>0.154000</td>\n",
       "      <td>0.169600</td>\n",
       "      <td>0.233425</td>\n",
       "      <td>0.268700</td>\n",
       "      <td>...</td>\n",
       "      <td>0.020825</td>\n",
       "      <td>0.016725</td>\n",
       "      <td>0.014900</td>\n",
       "      <td>0.014500</td>\n",
       "      <td>0.012100</td>\n",
       "      <td>0.010575</td>\n",
       "      <td>0.010425</td>\n",
       "      <td>0.010350</td>\n",
       "      <td>0.010325</td>\n",
       "      <td>0.008525</td>\n",
       "    </tr>\n",
       "    <tr>\n",
       "      <th>max</th>\n",
       "      <td>0.137100</td>\n",
       "      <td>0.233900</td>\n",
       "      <td>0.305900</td>\n",
       "      <td>0.426400</td>\n",
       "      <td>0.401000</td>\n",
       "      <td>0.382300</td>\n",
       "      <td>0.372900</td>\n",
       "      <td>0.459000</td>\n",
       "      <td>0.682800</td>\n",
       "      <td>0.710600</td>\n",
       "      <td>...</td>\n",
       "      <td>0.100400</td>\n",
       "      <td>0.070900</td>\n",
       "      <td>0.039000</td>\n",
       "      <td>0.035200</td>\n",
       "      <td>0.044700</td>\n",
       "      <td>0.039400</td>\n",
       "      <td>0.035500</td>\n",
       "      <td>0.044000</td>\n",
       "      <td>0.036400</td>\n",
       "      <td>0.043900</td>\n",
       "    </tr>\n",
       "  </tbody>\n",
       "</table>\n",
       "<p>8 rows × 60 columns</p>\n",
       "</div>"
      ],
      "text/plain": [
       "       attribute_1  attribute_2  attribute_3  attribute_4  attribute_5  \\\n",
       "count   208.000000   208.000000   208.000000   208.000000   208.000000   \n",
       "mean      0.029164     0.038437     0.043832     0.053892     0.075202   \n",
       "std       0.022991     0.032960     0.038428     0.046528     0.055552   \n",
       "min       0.001500     0.000600     0.001500     0.005800     0.006700   \n",
       "25%       0.013350     0.016450     0.018950     0.024375     0.038050   \n",
       "50%       0.022800     0.030800     0.034300     0.044050     0.062500   \n",
       "75%       0.035550     0.047950     0.057950     0.064500     0.100275   \n",
       "max       0.137100     0.233900     0.305900     0.426400     0.401000   \n",
       "\n",
       "       attribute_6  attribute_7  attribute_8  attribute_9  attribute_10  \\\n",
       "count   208.000000   208.000000   208.000000   208.000000    208.000000   \n",
       "mean      0.104570     0.121747     0.134799     0.178003      0.208259   \n",
       "std       0.059105     0.061788     0.085152     0.118387      0.134416   \n",
       "min       0.010200     0.003300     0.005500     0.007500      0.011300   \n",
       "25%       0.067025     0.080900     0.080425     0.097025      0.111275   \n",
       "50%       0.092150     0.106950     0.112100     0.152250      0.182400   \n",
       "75%       0.134125     0.154000     0.169600     0.233425      0.268700   \n",
       "max       0.382300     0.372900     0.459000     0.682800      0.710600   \n",
       "\n",
       "           ...       attribute_51  attribute_52  attribute_53  attribute_54  \\\n",
       "count      ...         208.000000    208.000000    208.000000    208.000000   \n",
       "mean       ...           0.016069      0.013420      0.010709      0.010941   \n",
       "std        ...           0.012008      0.009634      0.007060      0.007301   \n",
       "min        ...           0.000000      0.000800      0.000500      0.001000   \n",
       "25%        ...           0.008425      0.007275      0.005075      0.005375   \n",
       "50%        ...           0.013900      0.011400      0.009550      0.009300   \n",
       "75%        ...           0.020825      0.016725      0.014900      0.014500   \n",
       "max        ...           0.100400      0.070900      0.039000      0.035200   \n",
       "\n",
       "       attribute_55  attribute_56  attribute_57  attribute_58  attribute_59  \\\n",
       "count    208.000000    208.000000    208.000000    208.000000    208.000000   \n",
       "mean       0.009290      0.008222      0.007820      0.007949      0.007941   \n",
       "std        0.007088      0.005736      0.005785      0.006470      0.006181   \n",
       "min        0.000600      0.000400      0.000300      0.000300      0.000100   \n",
       "25%        0.004150      0.004400      0.003700      0.003600      0.003675   \n",
       "50%        0.007500      0.006850      0.005950      0.005800      0.006400   \n",
       "75%        0.012100      0.010575      0.010425      0.010350      0.010325   \n",
       "max        0.044700      0.039400      0.035500      0.044000      0.036400   \n",
       "\n",
       "       attribute_60  \n",
       "count    208.000000  \n",
       "mean       0.006507  \n",
       "std        0.005031  \n",
       "min        0.000600  \n",
       "25%        0.003100  \n",
       "50%        0.005300  \n",
       "75%        0.008525  \n",
       "max        0.043900  \n",
       "\n",
       "[8 rows x 60 columns]"
      ]
     },
     "execution_count": 3,
     "metadata": {},
     "output_type": "execute_result"
    }
   ],
   "source": [
    "# describe data\n",
    "from pandas import set_option\n",
    "\n",
    "set_option('precision', 6)\n",
    "data.describe()"
   ]
  },
  {
   "cell_type": "code",
   "execution_count": 4,
   "metadata": {
    "colab": {
     "base_uri": "https://localhost:8080/",
     "height": 707
    },
    "executionInfo": {
     "elapsed": 8149,
     "status": "ok",
     "timestamp": 1603703303341,
     "user": {
      "displayName": "Pakorn Yubolkosol",
      "photoUrl": "",
      "userId": "05702960693360342905"
     },
     "user_tz": -420
    },
    "id": "5Hcrl9UJKLWE",
    "outputId": "c7626fd7-7d40-4829-9cf3-368dc497c32f"
   },
   "outputs": [
    {
     "data": {
      "text/plain": [
       "array([[<matplotlib.axes._subplots.AxesSubplot object at 0x00000247F26D2898>,\n",
       "        <matplotlib.axes._subplots.AxesSubplot object at 0x00000247F473DB00>,\n",
       "        <matplotlib.axes._subplots.AxesSubplot object at 0x00000247F476AE48>,\n",
       "        <matplotlib.axes._subplots.AxesSubplot object at 0x00000247F479A400>,\n",
       "        <matplotlib.axes._subplots.AxesSubplot object at 0x00000247F47C1978>,\n",
       "        <matplotlib.axes._subplots.AxesSubplot object at 0x00000247F47E7EF0>,\n",
       "        <matplotlib.axes._subplots.AxesSubplot object at 0x00000247F48194A8>,\n",
       "        <matplotlib.axes._subplots.AxesSubplot object at 0x00000247F483EA58>],\n",
       "       [<matplotlib.axes._subplots.AxesSubplot object at 0x00000247F483EA90>,\n",
       "        <matplotlib.axes._subplots.AxesSubplot object at 0x00000247F4896550>,\n",
       "        <matplotlib.axes._subplots.AxesSubplot object at 0x00000247F48BEAC8>,\n",
       "        <matplotlib.axes._subplots.AxesSubplot object at 0x00000247F48EE080>,\n",
       "        <matplotlib.axes._subplots.AxesSubplot object at 0x00000247F49175F8>,\n",
       "        <matplotlib.axes._subplots.AxesSubplot object at 0x00000247F493CB70>,\n",
       "        <matplotlib.axes._subplots.AxesSubplot object at 0x00000247F496F128>,\n",
       "        <matplotlib.axes._subplots.AxesSubplot object at 0x00000247F49956A0>],\n",
       "       [<matplotlib.axes._subplots.AxesSubplot object at 0x00000247F49BDC18>,\n",
       "        <matplotlib.axes._subplots.AxesSubplot object at 0x00000247F49ED1D0>,\n",
       "        <matplotlib.axes._subplots.AxesSubplot object at 0x00000247F4A13748>,\n",
       "        <matplotlib.axes._subplots.AxesSubplot object at 0x00000247F4A3DCC0>,\n",
       "        <matplotlib.axes._subplots.AxesSubplot object at 0x00000247F4A6E278>,\n",
       "        <matplotlib.axes._subplots.AxesSubplot object at 0x00000247F4A957F0>,\n",
       "        <matplotlib.axes._subplots.AxesSubplot object at 0x00000247F4ABCD68>,\n",
       "        <matplotlib.axes._subplots.AxesSubplot object at 0x00000247F4AEC320>],\n",
       "       [<matplotlib.axes._subplots.AxesSubplot object at 0x00000247F4B11898>,\n",
       "        <matplotlib.axes._subplots.AxesSubplot object at 0x00000247F4B3AE10>,\n",
       "        <matplotlib.axes._subplots.AxesSubplot object at 0x00000247F4B6C3C8>,\n",
       "        <matplotlib.axes._subplots.AxesSubplot object at 0x00000247F4B92940>,\n",
       "        <matplotlib.axes._subplots.AxesSubplot object at 0x00000247F4BBAEB8>,\n",
       "        <matplotlib.axes._subplots.AxesSubplot object at 0x00000247F4BEB470>,\n",
       "        <matplotlib.axes._subplots.AxesSubplot object at 0x00000247F4C119E8>,\n",
       "        <matplotlib.axes._subplots.AxesSubplot object at 0x00000247F4C38F60>],\n",
       "       [<matplotlib.axes._subplots.AxesSubplot object at 0x00000247F4C6A518>,\n",
       "        <matplotlib.axes._subplots.AxesSubplot object at 0x00000247F4C91A90>,\n",
       "        <matplotlib.axes._subplots.AxesSubplot object at 0x00000247F4CC2048>,\n",
       "        <matplotlib.axes._subplots.AxesSubplot object at 0x00000247F4CE75C0>,\n",
       "        <matplotlib.axes._subplots.AxesSubplot object at 0x00000247F4D0FB38>,\n",
       "        <matplotlib.axes._subplots.AxesSubplot object at 0x00000247F4D410F0>,\n",
       "        <matplotlib.axes._subplots.AxesSubplot object at 0x00000247F4D67668>,\n",
       "        <matplotlib.axes._subplots.AxesSubplot object at 0x00000247F4D8DBE0>],\n",
       "       [<matplotlib.axes._subplots.AxesSubplot object at 0x00000247F4DC1198>,\n",
       "        <matplotlib.axes._subplots.AxesSubplot object at 0x00000247F4DE6710>,\n",
       "        <matplotlib.axes._subplots.AxesSubplot object at 0x00000247F4E0EC88>,\n",
       "        <matplotlib.axes._subplots.AxesSubplot object at 0x00000247F4E40240>,\n",
       "        <matplotlib.axes._subplots.AxesSubplot object at 0x00000247F4E647B8>,\n",
       "        <matplotlib.axes._subplots.AxesSubplot object at 0x00000247F4E8ED30>,\n",
       "        <matplotlib.axes._subplots.AxesSubplot object at 0x00000247F4EBF2E8>,\n",
       "        <matplotlib.axes._subplots.AxesSubplot object at 0x00000247F4EE5860>],\n",
       "       [<matplotlib.axes._subplots.AxesSubplot object at 0x00000247F4F0EDD8>,\n",
       "        <matplotlib.axes._subplots.AxesSubplot object at 0x00000247F4F3D390>,\n",
       "        <matplotlib.axes._subplots.AxesSubplot object at 0x00000247F4F64908>,\n",
       "        <matplotlib.axes._subplots.AxesSubplot object at 0x00000247F4F8DE80>,\n",
       "        <matplotlib.axes._subplots.AxesSubplot object at 0x00000247F4FBB438>,\n",
       "        <matplotlib.axes._subplots.AxesSubplot object at 0x00000247F4FE49B0>,\n",
       "        <matplotlib.axes._subplots.AxesSubplot object at 0x00000247F500AF28>,\n",
       "        <matplotlib.axes._subplots.AxesSubplot object at 0x00000247F503B4E0>],\n",
       "       [<matplotlib.axes._subplots.AxesSubplot object at 0x00000247F5064A58>,\n",
       "        <matplotlib.axes._subplots.AxesSubplot object at 0x00000247F508BFD0>,\n",
       "        <matplotlib.axes._subplots.AxesSubplot object at 0x00000247F50BA588>,\n",
       "        <matplotlib.axes._subplots.AxesSubplot object at 0x00000247F50E5B00>,\n",
       "        <matplotlib.axes._subplots.AxesSubplot object at 0x00000247F51130B8>,\n",
       "        <matplotlib.axes._subplots.AxesSubplot object at 0x00000247F5139630>,\n",
       "        <matplotlib.axes._subplots.AxesSubplot object at 0x00000247F5163BA8>,\n",
       "        <matplotlib.axes._subplots.AxesSubplot object at 0x00000247F5192160>]],\n",
       "      dtype=object)"
      ]
     },
     "execution_count": 4,
     "metadata": {},
     "output_type": "execute_result"
    }
   ],
   "source": [
    "# histograms\n",
    "from matplotlib import pyplot\n",
    "\n",
    "data.hist(sharex=False, sharey=False, xlabelsize=1, ylabelsize=1, figsize=(12,12))\n",
    "#pyplot.show()"
   ]
  },
  {
   "cell_type": "markdown",
   "metadata": {
    "id": "0hGZVgedSkPM"
   },
   "source": [
    "## 2) แยก features และ label"
   ]
  },
  {
   "cell_type": "markdown",
   "metadata": {
    "id": "yL9BVIjypIOi"
   },
   "source": [
    "แยก features เก็บไว้ใน matrix ใหม่ชื่อ `X` <br>\n",
    "แยก lable เก็บไว้ใน vector ใหม่ที่ชื่อ `y`"
   ]
  },
  {
   "cell_type": "code",
   "execution_count": 5,
   "metadata": {
    "id": "Oa2C5Q9fUhJQ"
   },
   "outputs": [],
   "source": [
    "X = data.drop(['Class'], axis=1)\n",
    "y = data[['Class']]"
   ]
  },
  {
   "cell_type": "markdown",
   "metadata": {
    "id": "QXm-9-BHcWXg"
   },
   "source": [
    "## 3) แบ่งข้อมูลเป็น 2 ส่วนเพื่อ train และ test"
   ]
  },
  {
   "cell_type": "markdown",
   "metadata": {
    "id": "QZITrt9nqczf"
   },
   "source": [
    "ใช้ `train_test_split` เพื่อแบ่งข้อมูลออกเป็น ข้อมูลสำหรับ train และสำหรับ test โดยในที่นี้ จะแบ่งข้อมูลไว้ 30% เพื่อทำการ test"
   ]
  },
  {
   "cell_type": "code",
   "execution_count": 6,
   "metadata": {
    "id": "X7vyIs-xXxLF"
   },
   "outputs": [],
   "source": [
    "from sklearn.model_selection import train_test_split\n",
    "\n",
    "X_train, X_test, y_train, y_test = train_test_split(X, y, test_size=0.3, random_state=13)"
   ]
  },
  {
   "cell_type": "markdown",
   "metadata": {
    "id": "OUZVwkCTtMOD"
   },
   "source": [
    "## 4) Train โมเดลด้วยข้อมูลที่แบ่งไว้"
   ]
  },
  {
   "cell_type": "markdown",
   "metadata": {
    "id": "Gzyx2O25sgu4"
   },
   "source": [
    "ใช้ decision tree เป็น classifier และทำการสร้าง instance จาก `DecisionTreeClassifier()` คลาส"
   ]
  },
  {
   "cell_type": "code",
   "execution_count": 7,
   "metadata": {
    "id": "3VhTf4_YZnYI"
   },
   "outputs": [],
   "source": [
    "from sklearn import tree\n",
    "model = tree.DecisionTreeClassifier()"
   ]
  },
  {
   "cell_type": "markdown",
   "metadata": {
    "id": "GDdyxPcWjoEo"
   },
   "source": [
    "หากต้องการใช้ classifier (algorithm) ตัวอื่นๆ ก็สามารถ import เข้ามาได้"
   ]
  },
  {
   "cell_type": "code",
   "execution_count": 8,
   "metadata": {
    "id": "qzJtkPbeepRp"
   },
   "outputs": [],
   "source": [
    "#from sklearn.linear_model import LogisticRegression\n",
    "#from sklearn.tree import DecisionTreeClassifier\n",
    "#from sklearn.neighbors import KNeighborsClassifier\n",
    "#from sklearn.discriminant_analysis import LinearDiscriminantAnalysis\n",
    "#from sklearn.naive_bayes import GaussianNB\n",
    "#from sklearn.svm import SVC"
   ]
  },
  {
   "cell_type": "code",
   "execution_count": 9,
   "metadata": {
    "colab": {
     "base_uri": "https://localhost:8080/",
     "height": 119
    },
    "executionInfo": {
     "elapsed": 802,
     "status": "ok",
     "timestamp": 1603703333661,
     "user": {
      "displayName": "Pakorn Yubolkosol",
      "photoUrl": "",
      "userId": "05702960693360342905"
     },
     "user_tz": -420
    },
    "id": "q66XDFOrgskk",
    "outputId": "35db0013-3e3c-4da3-cbf2-7b31dae449af"
   },
   "outputs": [
    {
     "data": {
      "text/plain": [
       "DecisionTreeClassifier()"
      ]
     },
     "execution_count": 9,
     "metadata": {},
     "output_type": "execute_result"
    }
   ],
   "source": [
    "#model = GaussianNB()\n",
    "#model = GaussianNB()\n",
    "model.fit(X_train, y_train)"
   ]
  },
  {
   "cell_type": "markdown",
   "metadata": {
    "id": "7ZC3VTyh3F3C"
   },
   "source": [
    "ทำการ train โมเดล (หรือ fit) ด้วย `X_train` และ `y_train`"
   ]
  },
  {
   "cell_type": "code",
   "execution_count": 10,
   "metadata": {
    "colab": {
     "base_uri": "https://localhost:8080/",
     "height": 119
    },
    "executionInfo": {
     "elapsed": 884,
     "status": "ok",
     "timestamp": 1603703337331,
     "user": {
      "displayName": "Pakorn Yubolkosol",
      "photoUrl": "",
      "userId": "05702960693360342905"
     },
     "user_tz": -420
    },
    "id": "dvuWucqycBNb",
    "outputId": "88ffa03b-4839-410d-ae4f-06a5981174f8"
   },
   "outputs": [
    {
     "data": {
      "text/plain": [
       "DecisionTreeClassifier()"
      ]
     },
     "execution_count": 10,
     "metadata": {},
     "output_type": "execute_result"
    }
   ],
   "source": [
    "model.fit(X_train, y_train)"
   ]
  },
  {
   "cell_type": "markdown",
   "metadata": {
    "id": "O8cunIKeJCKi"
   },
   "source": [
    "## 5) วัดความแม่นยำของโมเดล"
   ]
  },
  {
   "cell_type": "markdown",
   "metadata": {
    "id": "3bp1Cho2ec2-"
   },
   "source": [
    "ใช้ model ที่สร้างขึ้นทำการทำนาย label ของข้อมูลที่ถูกแบ่งไว้ทดสอบ (`X_test`)"
   ]
  },
  {
   "cell_type": "code",
   "execution_count": 11,
   "metadata": {
    "id": "QD2cCNu4cOY9"
   },
   "outputs": [],
   "source": [
    "y_predict = model.predict(X_test)"
   ]
  },
  {
   "cell_type": "markdown",
   "metadata": {
    "id": "v5yMmD-s7Bs3"
   },
   "source": [
    "ใช้ `accuracy_score()` นับจำนวนค่าที่โมเดลทำนายถูกและผิด และคำนวนออกมาเป็นเปอร์เซ็นต์"
   ]
  },
  {
   "cell_type": "code",
   "execution_count": 12,
   "metadata": {
    "colab": {
     "base_uri": "https://localhost:8080/",
     "height": 34
    },
    "executionInfo": {
     "elapsed": 817,
     "status": "ok",
     "timestamp": 1603703344408,
     "user": {
      "displayName": "Pakorn Yubolkosol",
      "photoUrl": "",
      "userId": "05702960693360342905"
     },
     "user_tz": -420
    },
    "id": "Nrcb9rg4c3dB",
    "outputId": "8e8239b9-5bd5-45a1-9393-e95eb0eacabb"
   },
   "outputs": [
    {
     "data": {
      "text/plain": [
       "0.6984126984126984"
      ]
     },
     "execution_count": 12,
     "metadata": {},
     "output_type": "execute_result"
    }
   ],
   "source": [
    "from sklearn.metrics import accuracy_score\n",
    "accuracy_score(y_test, y_predict)"
   ]
  },
  {
   "cell_type": "markdown",
   "metadata": {
    "id": "MSnVbmTB9RE6"
   },
   "source": [
    "ลอง `print` ค่าที่โมเดลทำนายได้ออกมาดู บางส่วน"
   ]
  },
  {
   "cell_type": "code",
   "execution_count": 13,
   "metadata": {
    "colab": {
     "base_uri": "https://localhost:8080/",
     "height": 195
    },
    "executionInfo": {
     "elapsed": 689,
     "status": "ok",
     "timestamp": 1593408105668,
     "user": {
      "displayName": "Pakorn Ubolkosold",
      "photoUrl": "",
      "userId": "15709163515899094663"
     },
     "user_tz": -420
    },
    "id": "kQU766lYcdlu",
    "outputId": "dc7f413d-89d5-4b5d-a7bb-393d0a7dc0a3"
   },
   "outputs": [
    {
     "data": {
      "text/html": [
       "<div>\n",
       "<style scoped>\n",
       "    .dataframe tbody tr th:only-of-type {\n",
       "        vertical-align: middle;\n",
       "    }\n",
       "\n",
       "    .dataframe tbody tr th {\n",
       "        vertical-align: top;\n",
       "    }\n",
       "\n",
       "    .dataframe thead th {\n",
       "        text-align: right;\n",
       "    }\n",
       "</style>\n",
       "<table border=\"1\" class=\"dataframe\">\n",
       "  <thead>\n",
       "    <tr style=\"text-align: right;\">\n",
       "      <th></th>\n",
       "      <th>0</th>\n",
       "    </tr>\n",
       "  </thead>\n",
       "  <tbody>\n",
       "    <tr>\n",
       "      <th>0</th>\n",
       "      <td>Mine</td>\n",
       "    </tr>\n",
       "    <tr>\n",
       "      <th>1</th>\n",
       "      <td>Mine</td>\n",
       "    </tr>\n",
       "    <tr>\n",
       "      <th>2</th>\n",
       "      <td>Mine</td>\n",
       "    </tr>\n",
       "    <tr>\n",
       "      <th>3</th>\n",
       "      <td>Rock</td>\n",
       "    </tr>\n",
       "    <tr>\n",
       "      <th>4</th>\n",
       "      <td>Mine</td>\n",
       "    </tr>\n",
       "  </tbody>\n",
       "</table>\n",
       "</div>"
      ],
      "text/plain": [
       "      0\n",
       "0  Mine\n",
       "1  Mine\n",
       "2  Mine\n",
       "3  Rock\n",
       "4  Mine"
      ]
     },
     "execution_count": 13,
     "metadata": {},
     "output_type": "execute_result"
    }
   ],
   "source": [
    "y_predict\n",
    "y_predict = pd.DataFrame(data=y_predict)\n",
    "y_predict.head()"
   ]
  },
  {
   "cell_type": "markdown",
   "metadata": {
    "id": "fWwOoRxMAagF"
   },
   "source": [
    "ลอง `print` ค่าของ label จริงๆ ออกมาดูบางส่วนเพื่อเปรียบเทียบกับค่าที่ทำนายได้จากโมเดล"
   ]
  },
  {
   "cell_type": "code",
   "execution_count": 14,
   "metadata": {
    "colab": {
     "base_uri": "https://localhost:8080/",
     "height": 195
    },
    "executionInfo": {
     "elapsed": 1202,
     "status": "ok",
     "timestamp": 1593356819642,
     "user": {
      "displayName": "Pakorn Ubolkosold",
      "photoUrl": "",
      "userId": "15709163515899094663"
     },
     "user_tz": -420
    },
    "id": "RKM--PWu4H5a",
    "outputId": "ecb825bf-ce92-4297-fa2a-1405bd2b79be"
   },
   "outputs": [
    {
     "data": {
      "text/html": [
       "<div>\n",
       "<style scoped>\n",
       "    .dataframe tbody tr th:only-of-type {\n",
       "        vertical-align: middle;\n",
       "    }\n",
       "\n",
       "    .dataframe tbody tr th {\n",
       "        vertical-align: top;\n",
       "    }\n",
       "\n",
       "    .dataframe thead th {\n",
       "        text-align: right;\n",
       "    }\n",
       "</style>\n",
       "<table border=\"1\" class=\"dataframe\">\n",
       "  <thead>\n",
       "    <tr style=\"text-align: right;\">\n",
       "      <th></th>\n",
       "      <th>Class</th>\n",
       "    </tr>\n",
       "  </thead>\n",
       "  <tbody>\n",
       "    <tr>\n",
       "      <th>131</th>\n",
       "      <td>Mine</td>\n",
       "    </tr>\n",
       "    <tr>\n",
       "      <th>175</th>\n",
       "      <td>Mine</td>\n",
       "    </tr>\n",
       "    <tr>\n",
       "      <th>185</th>\n",
       "      <td>Mine</td>\n",
       "    </tr>\n",
       "    <tr>\n",
       "      <th>136</th>\n",
       "      <td>Mine</td>\n",
       "    </tr>\n",
       "    <tr>\n",
       "      <th>111</th>\n",
       "      <td>Mine</td>\n",
       "    </tr>\n",
       "  </tbody>\n",
       "</table>\n",
       "</div>"
      ],
      "text/plain": [
       "    Class\n",
       "131  Mine\n",
       "175  Mine\n",
       "185  Mine\n",
       "136  Mine\n",
       "111  Mine"
      ]
     },
     "execution_count": 14,
     "metadata": {},
     "output_type": "execute_result"
    }
   ],
   "source": [
    "y_test.head()"
   ]
  },
  {
   "cell_type": "markdown",
   "metadata": {},
   "source": [
    "## 6) Save โมเดลเก็บไว้"
   ]
  },
  {
   "cell_type": "code",
   "execution_count": 15,
   "metadata": {},
   "outputs": [],
   "source": [
    "import pickle\n",
    "# save the model to disk\n",
    "filename = 'pickle_finalized_model.sav'\n",
    "pickle.dump(model, open(filename, 'wb'))"
   ]
  },
  {
   "cell_type": "markdown",
   "metadata": {
    "id": "flM9AkAqA3co"
   },
   "source": [
    "## 7) โหลดโมเดลกลับมาใช้กับข้อมูลใหม่"
   ]
  },
  {
   "cell_type": "markdown",
   "metadata": {
    "id": "fBIUjjuNDUVd"
   },
   "source": [
    "ลองสมมติข้อมูลใหม่ขึ้นมา ในที่นี้ใช้ข้อมูล จาก X แถวที่ 106 และ 107"
   ]
  },
  {
   "cell_type": "code",
   "execution_count": 16,
   "metadata": {
    "colab": {
     "base_uri": "https://localhost:8080/",
     "height": 101
    },
    "executionInfo": {
     "elapsed": 1106,
     "status": "ok",
     "timestamp": 1593356981254,
     "user": {
      "displayName": "Pakorn Ubolkosold",
      "photoUrl": "",
      "userId": "15709163515899094663"
     },
     "user_tz": -420
    },
    "id": "U5h489Ou3-X7",
    "outputId": "43e32409-069f-4093-e3f7-959ebfa16098"
   },
   "outputs": [
    {
     "name": "stdout",
     "output_type": "stream",
     "text": [
      "     attribute_1  attribute_2  attribute_3  attribute_4  attribute_5  \\\n",
      "106       0.0331       0.0423       0.0474       0.0818       0.0835   \n",
      "107       0.0428       0.0555       0.0708       0.0618       0.1215   \n",
      "\n",
      "     attribute_6  attribute_7  attribute_8  attribute_9  attribute_10  \\\n",
      "106       0.0756       0.0374       0.0961       0.0548        0.0193   \n",
      "107       0.1524       0.1543       0.0391       0.0610        0.0113   \n",
      "\n",
      "         ...       attribute_51  attribute_52  attribute_53  attribute_54  \\\n",
      "106      ...             0.0133        0.0078        0.0174        0.0176   \n",
      "107      ...             0.0009        0.0142        0.0179        0.0079   \n",
      "\n",
      "     attribute_55  attribute_56  attribute_57  attribute_58  attribute_59  \\\n",
      "106        0.0038        0.0129        0.0066        0.0044        0.0134   \n",
      "107        0.0060        0.0131        0.0089        0.0084        0.0113   \n",
      "\n",
      "     attribute_60  \n",
      "106        0.0092  \n",
      "107        0.0049  \n",
      "\n",
      "[2 rows x 60 columns]\n"
     ]
    }
   ],
   "source": [
    "d = X[106:108]\n",
    "\n",
    "X_new = d\n",
    "print(X_new)"
   ]
  },
  {
   "cell_type": "markdown",
   "metadata": {
    "id": "cTHWmZKRDtfY"
   },
   "source": [
    "ใส่ข้อมูลใหม่ให้โมเดลทำนาย และ `print` ผลการทำนายออกมาดู"
   ]
  },
  {
   "cell_type": "code",
   "execution_count": 17,
   "metadata": {},
   "outputs": [],
   "source": [
    "# load the model from disk\n",
    "loaded_model = pickle.load(open(filename, 'rb'))"
   ]
  },
  {
   "cell_type": "code",
   "execution_count": 18,
   "metadata": {
    "colab": {
     "base_uri": "https://localhost:8080/",
     "height": 84
    },
    "executionInfo": {
     "elapsed": 1117,
     "status": "ok",
     "timestamp": 1593356987106,
     "user": {
      "displayName": "Pakorn Ubolkosold",
      "photoUrl": "",
      "userId": "15709163515899094663"
     },
     "user_tz": -420
    },
    "id": "aNbBQgWB4kpk",
    "outputId": "8b98695f-46e3-4be9-f40e-74a2ef4d4b2c"
   },
   "outputs": [
    {
     "name": "stdout",
     "output_type": "stream",
     "text": [
      "['Mine' 'Rock']\n",
      "    Class\n",
      "106  Mine\n",
      "107  Mine\n"
     ]
    }
   ],
   "source": [
    "y_new = loaded_model.predict(X_new)\n",
    "print(y_new)\n",
    "print(y[106:108])"
   ]
  }
 ],
 "metadata": {
  "colab": {
   "collapsed_sections": [],
   "name": "GaussianNB_sonar_ie311.ipynb",
   "provenance": [
    {
     "file_id": "1tb7T18cqYLmQw4SRTluWrG3tp5QcT7Rr",
     "timestamp": 1603696378884
    },
    {
     "file_id": "14BNE6at9-5zseo9XQozMcalRuXC0d1GI",
     "timestamp": 1593316360097
    }
   ],
   "toc_visible": true
  },
  "kernelspec": {
   "display_name": "Python 3",
   "language": "python",
   "name": "python3"
  },
  "language_info": {
   "codemirror_mode": {
    "name": "ipython",
    "version": 3
   },
   "file_extension": ".py",
   "mimetype": "text/x-python",
   "name": "python",
   "nbconvert_exporter": "python",
   "pygments_lexer": "ipython3",
   "version": "3.6.7"
  }
 },
 "nbformat": 4,
 "nbformat_minor": 1
}
