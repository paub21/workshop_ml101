{
 "cells": [
  {
   "cell_type": "markdown",
   "metadata": {},
   "source": [
    "**โดย ดร.ปกรณ์ ยุบลโกศล** <br> <br>"
   ]
  },
  {
   "cell_type": "markdown",
   "metadata": {
    "id": "ANFKwqriHuae"
   },
   "source": [
    "# Classification วัตถุว่าเป็น Rock (หิน) หรือ Mine (แร่) จากสัญญาณ sonar\n",
    "\n",
    "สัญญาณ Sonar ถูกส่งออกไปให้กระทบกับวัตถุแล้วสะท้อนกับมาซึ่ง หลังจากประมวลผลทางสัญญาณแล้วได้ features ออกมา 60 ชนิด สำหรับใช้เพื่อบอกว่าวัตถุที่สัญญาณ sonar สะท้อนมาคือ Rock หรือ Mine  \n",
    "\n",
    "![alt text](https://3.bp.blogspot.com/-X0ZL2hK7P_A/TrntHNaWZvI/AAAAAAAALh0/N-rv9PN4ids/s1600/GDC_TrailBlazer_300x_215.jpg)"
   ]
  },
  {
   "cell_type": "markdown",
   "metadata": {
    "id": "yoSo4j5QaoKN"
   },
   "source": [
    "**ขั้นตอนประกอบด้วย**\n",
    "1. นำเข้าข้อมูล\n",
    "2. แยก features และ label\n",
    "3. แบ่งข้อมูลเป็น 2 ส่วนเพื่อ train และ test\n",
    "4. train โมเดลด้วยข้อมูลที่แบ่งไว้\n",
    "5. วัดประสิทธิภาพของโมเดล\n",
    "6. นำโมเดลไปใช้กับข้อมูลใหม่\n"
   ]
  },
  {
   "cell_type": "markdown",
   "metadata": {
    "id": "PGQ7jPTiR-5f"
   },
   "source": [
    "## 1) นำเข้าข้อมูล"
   ]
  },
  {
   "cell_type": "code",
   "execution_count": 1,
   "metadata": {
    "id": "RZ7NGIAjVPzH"
   },
   "outputs": [],
   "source": [
    "import pandas as pd\n",
    "#url = 'https://raw.githubusercontent.com/BU-MLearning/Summer/master/sonar.csv'\n",
    "url = 'sonar.csv'\n",
    "data = pd.read_csv(url)"
   ]
  },
  {
   "cell_type": "markdown",
   "metadata": {
    "id": "EHirNluCqEDy"
   },
   "source": [
    "สังเกตุหน้าตาข้อมูลที่ import เข้ามาว่าเป็นอย่างไรโดยใช้ `data.head()`"
   ]
  },
  {
   "cell_type": "code",
   "execution_count": 2,
   "metadata": {
    "colab": {
     "base_uri": "https://localhost:8080/",
     "height": 379
    },
    "executionInfo": {
     "elapsed": 1000,
     "status": "ok",
     "timestamp": 1603703289168,
     "user": {
      "displayName": "Pakorn Yubolkosol",
      "photoUrl": "",
      "userId": "05702960693360342905"
     },
     "user_tz": -420
    },
    "id": "emffczcNpHiA",
    "outputId": "614c3db9-a690-4234-879b-162863cd52cc"
   },
   "outputs": [
    {
     "data": {
      "text/html": [
       "<div>\n",
       "<style scoped>\n",
       "    .dataframe tbody tr th:only-of-type {\n",
       "        vertical-align: middle;\n",
       "    }\n",
       "\n",
       "    .dataframe tbody tr th {\n",
       "        vertical-align: top;\n",
       "    }\n",
       "\n",
       "    .dataframe thead th {\n",
       "        text-align: right;\n",
       "    }\n",
       "</style>\n",
       "<table border=\"1\" class=\"dataframe\">\n",
       "  <thead>\n",
       "    <tr style=\"text-align: right;\">\n",
       "      <th></th>\n",
       "      <th>attribute_1</th>\n",
       "      <th>attribute_2</th>\n",
       "      <th>attribute_3</th>\n",
       "      <th>attribute_4</th>\n",
       "      <th>attribute_5</th>\n",
       "      <th>attribute_6</th>\n",
       "      <th>attribute_7</th>\n",
       "      <th>attribute_8</th>\n",
       "      <th>attribute_9</th>\n",
       "      <th>attribute_10</th>\n",
       "      <th>...</th>\n",
       "      <th>attribute_52</th>\n",
       "      <th>attribute_53</th>\n",
       "      <th>attribute_54</th>\n",
       "      <th>attribute_55</th>\n",
       "      <th>attribute_56</th>\n",
       "      <th>attribute_57</th>\n",
       "      <th>attribute_58</th>\n",
       "      <th>attribute_59</th>\n",
       "      <th>attribute_60</th>\n",
       "      <th>Class</th>\n",
       "    </tr>\n",
       "  </thead>\n",
       "  <tbody>\n",
       "    <tr>\n",
       "      <th>0</th>\n",
       "      <td>0.0200</td>\n",
       "      <td>0.0371</td>\n",
       "      <td>0.0428</td>\n",
       "      <td>0.0207</td>\n",
       "      <td>0.0954</td>\n",
       "      <td>0.0986</td>\n",
       "      <td>0.1539</td>\n",
       "      <td>0.1601</td>\n",
       "      <td>0.3109</td>\n",
       "      <td>0.2111</td>\n",
       "      <td>...</td>\n",
       "      <td>0.0027</td>\n",
       "      <td>0.0065</td>\n",
       "      <td>0.0159</td>\n",
       "      <td>0.0072</td>\n",
       "      <td>0.0167</td>\n",
       "      <td>0.0180</td>\n",
       "      <td>0.0084</td>\n",
       "      <td>0.0090</td>\n",
       "      <td>0.0032</td>\n",
       "      <td>Rock</td>\n",
       "    </tr>\n",
       "    <tr>\n",
       "      <th>1</th>\n",
       "      <td>0.0453</td>\n",
       "      <td>0.0523</td>\n",
       "      <td>0.0843</td>\n",
       "      <td>0.0689</td>\n",
       "      <td>0.1183</td>\n",
       "      <td>0.2583</td>\n",
       "      <td>0.2156</td>\n",
       "      <td>0.3481</td>\n",
       "      <td>0.3337</td>\n",
       "      <td>0.2872</td>\n",
       "      <td>...</td>\n",
       "      <td>0.0084</td>\n",
       "      <td>0.0089</td>\n",
       "      <td>0.0048</td>\n",
       "      <td>0.0094</td>\n",
       "      <td>0.0191</td>\n",
       "      <td>0.0140</td>\n",
       "      <td>0.0049</td>\n",
       "      <td>0.0052</td>\n",
       "      <td>0.0044</td>\n",
       "      <td>Rock</td>\n",
       "    </tr>\n",
       "    <tr>\n",
       "      <th>2</th>\n",
       "      <td>0.0262</td>\n",
       "      <td>0.0582</td>\n",
       "      <td>0.1099</td>\n",
       "      <td>0.1083</td>\n",
       "      <td>0.0974</td>\n",
       "      <td>0.2280</td>\n",
       "      <td>0.2431</td>\n",
       "      <td>0.3771</td>\n",
       "      <td>0.5598</td>\n",
       "      <td>0.6194</td>\n",
       "      <td>...</td>\n",
       "      <td>0.0232</td>\n",
       "      <td>0.0166</td>\n",
       "      <td>0.0095</td>\n",
       "      <td>0.0180</td>\n",
       "      <td>0.0244</td>\n",
       "      <td>0.0316</td>\n",
       "      <td>0.0164</td>\n",
       "      <td>0.0095</td>\n",
       "      <td>0.0078</td>\n",
       "      <td>Rock</td>\n",
       "    </tr>\n",
       "    <tr>\n",
       "      <th>3</th>\n",
       "      <td>0.0100</td>\n",
       "      <td>0.0171</td>\n",
       "      <td>0.0623</td>\n",
       "      <td>0.0205</td>\n",
       "      <td>0.0205</td>\n",
       "      <td>0.0368</td>\n",
       "      <td>0.1098</td>\n",
       "      <td>0.1276</td>\n",
       "      <td>0.0598</td>\n",
       "      <td>0.1264</td>\n",
       "      <td>...</td>\n",
       "      <td>0.0121</td>\n",
       "      <td>0.0036</td>\n",
       "      <td>0.0150</td>\n",
       "      <td>0.0085</td>\n",
       "      <td>0.0073</td>\n",
       "      <td>0.0050</td>\n",
       "      <td>0.0044</td>\n",
       "      <td>0.0040</td>\n",
       "      <td>0.0117</td>\n",
       "      <td>Rock</td>\n",
       "    </tr>\n",
       "    <tr>\n",
       "      <th>4</th>\n",
       "      <td>0.0762</td>\n",
       "      <td>0.0666</td>\n",
       "      <td>0.0481</td>\n",
       "      <td>0.0394</td>\n",
       "      <td>0.0590</td>\n",
       "      <td>0.0649</td>\n",
       "      <td>0.1209</td>\n",
       "      <td>0.2467</td>\n",
       "      <td>0.3564</td>\n",
       "      <td>0.4459</td>\n",
       "      <td>...</td>\n",
       "      <td>0.0031</td>\n",
       "      <td>0.0054</td>\n",
       "      <td>0.0105</td>\n",
       "      <td>0.0110</td>\n",
       "      <td>0.0015</td>\n",
       "      <td>0.0072</td>\n",
       "      <td>0.0048</td>\n",
       "      <td>0.0107</td>\n",
       "      <td>0.0094</td>\n",
       "      <td>Rock</td>\n",
       "    </tr>\n",
       "    <tr>\n",
       "      <th>5</th>\n",
       "      <td>0.0286</td>\n",
       "      <td>0.0453</td>\n",
       "      <td>0.0277</td>\n",
       "      <td>0.0174</td>\n",
       "      <td>0.0384</td>\n",
       "      <td>0.0990</td>\n",
       "      <td>0.1201</td>\n",
       "      <td>0.1833</td>\n",
       "      <td>0.2105</td>\n",
       "      <td>0.3039</td>\n",
       "      <td>...</td>\n",
       "      <td>0.0045</td>\n",
       "      <td>0.0014</td>\n",
       "      <td>0.0038</td>\n",
       "      <td>0.0013</td>\n",
       "      <td>0.0089</td>\n",
       "      <td>0.0057</td>\n",
       "      <td>0.0027</td>\n",
       "      <td>0.0051</td>\n",
       "      <td>0.0062</td>\n",
       "      <td>Rock</td>\n",
       "    </tr>\n",
       "    <tr>\n",
       "      <th>6</th>\n",
       "      <td>0.0317</td>\n",
       "      <td>0.0956</td>\n",
       "      <td>0.1321</td>\n",
       "      <td>0.1408</td>\n",
       "      <td>0.1674</td>\n",
       "      <td>0.1710</td>\n",
       "      <td>0.0731</td>\n",
       "      <td>0.1401</td>\n",
       "      <td>0.2083</td>\n",
       "      <td>0.3513</td>\n",
       "      <td>...</td>\n",
       "      <td>0.0201</td>\n",
       "      <td>0.0248</td>\n",
       "      <td>0.0131</td>\n",
       "      <td>0.0070</td>\n",
       "      <td>0.0138</td>\n",
       "      <td>0.0092</td>\n",
       "      <td>0.0143</td>\n",
       "      <td>0.0036</td>\n",
       "      <td>0.0103</td>\n",
       "      <td>Rock</td>\n",
       "    </tr>\n",
       "    <tr>\n",
       "      <th>7</th>\n",
       "      <td>0.0519</td>\n",
       "      <td>0.0548</td>\n",
       "      <td>0.0842</td>\n",
       "      <td>0.0319</td>\n",
       "      <td>0.1158</td>\n",
       "      <td>0.0922</td>\n",
       "      <td>0.1027</td>\n",
       "      <td>0.0613</td>\n",
       "      <td>0.1465</td>\n",
       "      <td>0.2838</td>\n",
       "      <td>...</td>\n",
       "      <td>0.0081</td>\n",
       "      <td>0.0120</td>\n",
       "      <td>0.0045</td>\n",
       "      <td>0.0121</td>\n",
       "      <td>0.0097</td>\n",
       "      <td>0.0085</td>\n",
       "      <td>0.0047</td>\n",
       "      <td>0.0048</td>\n",
       "      <td>0.0053</td>\n",
       "      <td>Rock</td>\n",
       "    </tr>\n",
       "    <tr>\n",
       "      <th>8</th>\n",
       "      <td>0.0223</td>\n",
       "      <td>0.0375</td>\n",
       "      <td>0.0484</td>\n",
       "      <td>0.0475</td>\n",
       "      <td>0.0647</td>\n",
       "      <td>0.0591</td>\n",
       "      <td>0.0753</td>\n",
       "      <td>0.0098</td>\n",
       "      <td>0.0684</td>\n",
       "      <td>0.1487</td>\n",
       "      <td>...</td>\n",
       "      <td>0.0145</td>\n",
       "      <td>0.0128</td>\n",
       "      <td>0.0145</td>\n",
       "      <td>0.0058</td>\n",
       "      <td>0.0049</td>\n",
       "      <td>0.0065</td>\n",
       "      <td>0.0093</td>\n",
       "      <td>0.0059</td>\n",
       "      <td>0.0022</td>\n",
       "      <td>Rock</td>\n",
       "    </tr>\n",
       "    <tr>\n",
       "      <th>9</th>\n",
       "      <td>0.0164</td>\n",
       "      <td>0.0173</td>\n",
       "      <td>0.0347</td>\n",
       "      <td>0.0070</td>\n",
       "      <td>0.0187</td>\n",
       "      <td>0.0671</td>\n",
       "      <td>0.1056</td>\n",
       "      <td>0.0697</td>\n",
       "      <td>0.0962</td>\n",
       "      <td>0.0251</td>\n",
       "      <td>...</td>\n",
       "      <td>0.0090</td>\n",
       "      <td>0.0223</td>\n",
       "      <td>0.0179</td>\n",
       "      <td>0.0084</td>\n",
       "      <td>0.0068</td>\n",
       "      <td>0.0032</td>\n",
       "      <td>0.0035</td>\n",
       "      <td>0.0056</td>\n",
       "      <td>0.0040</td>\n",
       "      <td>Rock</td>\n",
       "    </tr>\n",
       "  </tbody>\n",
       "</table>\n",
       "<p>10 rows × 61 columns</p>\n",
       "</div>"
      ],
      "text/plain": [
       "   attribute_1  attribute_2  attribute_3  attribute_4  attribute_5  \\\n",
       "0       0.0200       0.0371       0.0428       0.0207       0.0954   \n",
       "1       0.0453       0.0523       0.0843       0.0689       0.1183   \n",
       "2       0.0262       0.0582       0.1099       0.1083       0.0974   \n",
       "3       0.0100       0.0171       0.0623       0.0205       0.0205   \n",
       "4       0.0762       0.0666       0.0481       0.0394       0.0590   \n",
       "5       0.0286       0.0453       0.0277       0.0174       0.0384   \n",
       "6       0.0317       0.0956       0.1321       0.1408       0.1674   \n",
       "7       0.0519       0.0548       0.0842       0.0319       0.1158   \n",
       "8       0.0223       0.0375       0.0484       0.0475       0.0647   \n",
       "9       0.0164       0.0173       0.0347       0.0070       0.0187   \n",
       "\n",
       "   attribute_6  attribute_7  attribute_8  attribute_9  attribute_10  ...    \\\n",
       "0       0.0986       0.1539       0.1601       0.3109        0.2111  ...     \n",
       "1       0.2583       0.2156       0.3481       0.3337        0.2872  ...     \n",
       "2       0.2280       0.2431       0.3771       0.5598        0.6194  ...     \n",
       "3       0.0368       0.1098       0.1276       0.0598        0.1264  ...     \n",
       "4       0.0649       0.1209       0.2467       0.3564        0.4459  ...     \n",
       "5       0.0990       0.1201       0.1833       0.2105        0.3039  ...     \n",
       "6       0.1710       0.0731       0.1401       0.2083        0.3513  ...     \n",
       "7       0.0922       0.1027       0.0613       0.1465        0.2838  ...     \n",
       "8       0.0591       0.0753       0.0098       0.0684        0.1487  ...     \n",
       "9       0.0671       0.1056       0.0697       0.0962        0.0251  ...     \n",
       "\n",
       "   attribute_52  attribute_53  attribute_54  attribute_55  attribute_56  \\\n",
       "0        0.0027        0.0065        0.0159        0.0072        0.0167   \n",
       "1        0.0084        0.0089        0.0048        0.0094        0.0191   \n",
       "2        0.0232        0.0166        0.0095        0.0180        0.0244   \n",
       "3        0.0121        0.0036        0.0150        0.0085        0.0073   \n",
       "4        0.0031        0.0054        0.0105        0.0110        0.0015   \n",
       "5        0.0045        0.0014        0.0038        0.0013        0.0089   \n",
       "6        0.0201        0.0248        0.0131        0.0070        0.0138   \n",
       "7        0.0081        0.0120        0.0045        0.0121        0.0097   \n",
       "8        0.0145        0.0128        0.0145        0.0058        0.0049   \n",
       "9        0.0090        0.0223        0.0179        0.0084        0.0068   \n",
       "\n",
       "   attribute_57  attribute_58  attribute_59  attribute_60  Class  \n",
       "0        0.0180        0.0084        0.0090        0.0032   Rock  \n",
       "1        0.0140        0.0049        0.0052        0.0044   Rock  \n",
       "2        0.0316        0.0164        0.0095        0.0078   Rock  \n",
       "3        0.0050        0.0044        0.0040        0.0117   Rock  \n",
       "4        0.0072        0.0048        0.0107        0.0094   Rock  \n",
       "5        0.0057        0.0027        0.0051        0.0062   Rock  \n",
       "6        0.0092        0.0143        0.0036        0.0103   Rock  \n",
       "7        0.0085        0.0047        0.0048        0.0053   Rock  \n",
       "8        0.0065        0.0093        0.0059        0.0022   Rock  \n",
       "9        0.0032        0.0035        0.0056        0.0040   Rock  \n",
       "\n",
       "[10 rows x 61 columns]"
      ]
     },
     "execution_count": 2,
     "metadata": {},
     "output_type": "execute_result"
    }
   ],
   "source": [
    "data.head(10)"
   ]
  },
  {
   "cell_type": "markdown",
   "metadata": {
    "id": "PMXRxHaDKh5C"
   },
   "source": [
    "ดูค่าทางสถิติเบื้องต้นของข้อมูลที่ import เข้ามา"
   ]
  },
  {
   "cell_type": "code",
   "execution_count": 3,
   "metadata": {
    "colab": {
     "base_uri": "https://localhost:8080/",
     "height": 317
    },
    "executionInfo": {
     "elapsed": 909,
     "status": "ok",
     "timestamp": 1603703293253,
     "user": {
      "displayName": "Pakorn Yubolkosol",
      "photoUrl": "",
      "userId": "05702960693360342905"
     },
     "user_tz": -420
    },
    "id": "pXtXmTqwILeS",
    "outputId": "843f8e02-5296-4529-cfe7-cee9cd1842a0"
   },
   "outputs": [
    {
     "data": {
      "text/html": [
       "<div>\n",
       "<style scoped>\n",
       "    .dataframe tbody tr th:only-of-type {\n",
       "        vertical-align: middle;\n",
       "    }\n",
       "\n",
       "    .dataframe tbody tr th {\n",
       "        vertical-align: top;\n",
       "    }\n",
       "\n",
       "    .dataframe thead th {\n",
       "        text-align: right;\n",
       "    }\n",
       "</style>\n",
       "<table border=\"1\" class=\"dataframe\">\n",
       "  <thead>\n",
       "    <tr style=\"text-align: right;\">\n",
       "      <th></th>\n",
       "      <th>attribute_1</th>\n",
       "      <th>attribute_2</th>\n",
       "      <th>attribute_3</th>\n",
       "      <th>attribute_4</th>\n",
       "      <th>attribute_5</th>\n",
       "      <th>attribute_6</th>\n",
       "      <th>attribute_7</th>\n",
       "      <th>attribute_8</th>\n",
       "      <th>attribute_9</th>\n",
       "      <th>attribute_10</th>\n",
       "      <th>...</th>\n",
       "      <th>attribute_51</th>\n",
       "      <th>attribute_52</th>\n",
       "      <th>attribute_53</th>\n",
       "      <th>attribute_54</th>\n",
       "      <th>attribute_55</th>\n",
       "      <th>attribute_56</th>\n",
       "      <th>attribute_57</th>\n",
       "      <th>attribute_58</th>\n",
       "      <th>attribute_59</th>\n",
       "      <th>attribute_60</th>\n",
       "    </tr>\n",
       "  </thead>\n",
       "  <tbody>\n",
       "    <tr>\n",
       "      <th>count</th>\n",
       "      <td>208.000000</td>\n",
       "      <td>208.000000</td>\n",
       "      <td>208.000000</td>\n",
       "      <td>208.000000</td>\n",
       "      <td>208.000000</td>\n",
       "      <td>208.000000</td>\n",
       "      <td>208.000000</td>\n",
       "      <td>208.000000</td>\n",
       "      <td>208.000000</td>\n",
       "      <td>208.000000</td>\n",
       "      <td>...</td>\n",
       "      <td>208.000000</td>\n",
       "      <td>208.000000</td>\n",
       "      <td>208.000000</td>\n",
       "      <td>208.000000</td>\n",
       "      <td>208.000000</td>\n",
       "      <td>208.000000</td>\n",
       "      <td>208.000000</td>\n",
       "      <td>208.000000</td>\n",
       "      <td>208.000000</td>\n",
       "      <td>208.000000</td>\n",
       "    </tr>\n",
       "    <tr>\n",
       "      <th>mean</th>\n",
       "      <td>0.029164</td>\n",
       "      <td>0.038437</td>\n",
       "      <td>0.043832</td>\n",
       "      <td>0.053892</td>\n",
       "      <td>0.075202</td>\n",
       "      <td>0.104570</td>\n",
       "      <td>0.121747</td>\n",
       "      <td>0.134799</td>\n",
       "      <td>0.178003</td>\n",
       "      <td>0.208259</td>\n",
       "      <td>...</td>\n",
       "      <td>0.016069</td>\n",
       "      <td>0.013420</td>\n",
       "      <td>0.010709</td>\n",
       "      <td>0.010941</td>\n",
       "      <td>0.009290</td>\n",
       "      <td>0.008222</td>\n",
       "      <td>0.007820</td>\n",
       "      <td>0.007949</td>\n",
       "      <td>0.007941</td>\n",
       "      <td>0.006507</td>\n",
       "    </tr>\n",
       "    <tr>\n",
       "      <th>std</th>\n",
       "      <td>0.022991</td>\n",
       "      <td>0.032960</td>\n",
       "      <td>0.038428</td>\n",
       "      <td>0.046528</td>\n",
       "      <td>0.055552</td>\n",
       "      <td>0.059105</td>\n",
       "      <td>0.061788</td>\n",
       "      <td>0.085152</td>\n",
       "      <td>0.118387</td>\n",
       "      <td>0.134416</td>\n",
       "      <td>...</td>\n",
       "      <td>0.012008</td>\n",
       "      <td>0.009634</td>\n",
       "      <td>0.007060</td>\n",
       "      <td>0.007301</td>\n",
       "      <td>0.007088</td>\n",
       "      <td>0.005736</td>\n",
       "      <td>0.005785</td>\n",
       "      <td>0.006470</td>\n",
       "      <td>0.006181</td>\n",
       "      <td>0.005031</td>\n",
       "    </tr>\n",
       "    <tr>\n",
       "      <th>min</th>\n",
       "      <td>0.001500</td>\n",
       "      <td>0.000600</td>\n",
       "      <td>0.001500</td>\n",
       "      <td>0.005800</td>\n",
       "      <td>0.006700</td>\n",
       "      <td>0.010200</td>\n",
       "      <td>0.003300</td>\n",
       "      <td>0.005500</td>\n",
       "      <td>0.007500</td>\n",
       "      <td>0.011300</td>\n",
       "      <td>...</td>\n",
       "      <td>0.000000</td>\n",
       "      <td>0.000800</td>\n",
       "      <td>0.000500</td>\n",
       "      <td>0.001000</td>\n",
       "      <td>0.000600</td>\n",
       "      <td>0.000400</td>\n",
       "      <td>0.000300</td>\n",
       "      <td>0.000300</td>\n",
       "      <td>0.000100</td>\n",
       "      <td>0.000600</td>\n",
       "    </tr>\n",
       "    <tr>\n",
       "      <th>25%</th>\n",
       "      <td>0.013350</td>\n",
       "      <td>0.016450</td>\n",
       "      <td>0.018950</td>\n",
       "      <td>0.024375</td>\n",
       "      <td>0.038050</td>\n",
       "      <td>0.067025</td>\n",
       "      <td>0.080900</td>\n",
       "      <td>0.080425</td>\n",
       "      <td>0.097025</td>\n",
       "      <td>0.111275</td>\n",
       "      <td>...</td>\n",
       "      <td>0.008425</td>\n",
       "      <td>0.007275</td>\n",
       "      <td>0.005075</td>\n",
       "      <td>0.005375</td>\n",
       "      <td>0.004150</td>\n",
       "      <td>0.004400</td>\n",
       "      <td>0.003700</td>\n",
       "      <td>0.003600</td>\n",
       "      <td>0.003675</td>\n",
       "      <td>0.003100</td>\n",
       "    </tr>\n",
       "    <tr>\n",
       "      <th>50%</th>\n",
       "      <td>0.022800</td>\n",
       "      <td>0.030800</td>\n",
       "      <td>0.034300</td>\n",
       "      <td>0.044050</td>\n",
       "      <td>0.062500</td>\n",
       "      <td>0.092150</td>\n",
       "      <td>0.106950</td>\n",
       "      <td>0.112100</td>\n",
       "      <td>0.152250</td>\n",
       "      <td>0.182400</td>\n",
       "      <td>...</td>\n",
       "      <td>0.013900</td>\n",
       "      <td>0.011400</td>\n",
       "      <td>0.009550</td>\n",
       "      <td>0.009300</td>\n",
       "      <td>0.007500</td>\n",
       "      <td>0.006850</td>\n",
       "      <td>0.005950</td>\n",
       "      <td>0.005800</td>\n",
       "      <td>0.006400</td>\n",
       "      <td>0.005300</td>\n",
       "    </tr>\n",
       "    <tr>\n",
       "      <th>75%</th>\n",
       "      <td>0.035550</td>\n",
       "      <td>0.047950</td>\n",
       "      <td>0.057950</td>\n",
       "      <td>0.064500</td>\n",
       "      <td>0.100275</td>\n",
       "      <td>0.134125</td>\n",
       "      <td>0.154000</td>\n",
       "      <td>0.169600</td>\n",
       "      <td>0.233425</td>\n",
       "      <td>0.268700</td>\n",
       "      <td>...</td>\n",
       "      <td>0.020825</td>\n",
       "      <td>0.016725</td>\n",
       "      <td>0.014900</td>\n",
       "      <td>0.014500</td>\n",
       "      <td>0.012100</td>\n",
       "      <td>0.010575</td>\n",
       "      <td>0.010425</td>\n",
       "      <td>0.010350</td>\n",
       "      <td>0.010325</td>\n",
       "      <td>0.008525</td>\n",
       "    </tr>\n",
       "    <tr>\n",
       "      <th>max</th>\n",
       "      <td>0.137100</td>\n",
       "      <td>0.233900</td>\n",
       "      <td>0.305900</td>\n",
       "      <td>0.426400</td>\n",
       "      <td>0.401000</td>\n",
       "      <td>0.382300</td>\n",
       "      <td>0.372900</td>\n",
       "      <td>0.459000</td>\n",
       "      <td>0.682800</td>\n",
       "      <td>0.710600</td>\n",
       "      <td>...</td>\n",
       "      <td>0.100400</td>\n",
       "      <td>0.070900</td>\n",
       "      <td>0.039000</td>\n",
       "      <td>0.035200</td>\n",
       "      <td>0.044700</td>\n",
       "      <td>0.039400</td>\n",
       "      <td>0.035500</td>\n",
       "      <td>0.044000</td>\n",
       "      <td>0.036400</td>\n",
       "      <td>0.043900</td>\n",
       "    </tr>\n",
       "  </tbody>\n",
       "</table>\n",
       "<p>8 rows × 60 columns</p>\n",
       "</div>"
      ],
      "text/plain": [
       "       attribute_1  attribute_2  attribute_3  attribute_4  attribute_5  \\\n",
       "count   208.000000   208.000000   208.000000   208.000000   208.000000   \n",
       "mean      0.029164     0.038437     0.043832     0.053892     0.075202   \n",
       "std       0.022991     0.032960     0.038428     0.046528     0.055552   \n",
       "min       0.001500     0.000600     0.001500     0.005800     0.006700   \n",
       "25%       0.013350     0.016450     0.018950     0.024375     0.038050   \n",
       "50%       0.022800     0.030800     0.034300     0.044050     0.062500   \n",
       "75%       0.035550     0.047950     0.057950     0.064500     0.100275   \n",
       "max       0.137100     0.233900     0.305900     0.426400     0.401000   \n",
       "\n",
       "       attribute_6  attribute_7  attribute_8  attribute_9  attribute_10  \\\n",
       "count   208.000000   208.000000   208.000000   208.000000    208.000000   \n",
       "mean      0.104570     0.121747     0.134799     0.178003      0.208259   \n",
       "std       0.059105     0.061788     0.085152     0.118387      0.134416   \n",
       "min       0.010200     0.003300     0.005500     0.007500      0.011300   \n",
       "25%       0.067025     0.080900     0.080425     0.097025      0.111275   \n",
       "50%       0.092150     0.106950     0.112100     0.152250      0.182400   \n",
       "75%       0.134125     0.154000     0.169600     0.233425      0.268700   \n",
       "max       0.382300     0.372900     0.459000     0.682800      0.710600   \n",
       "\n",
       "           ...       attribute_51  attribute_52  attribute_53  attribute_54  \\\n",
       "count      ...         208.000000    208.000000    208.000000    208.000000   \n",
       "mean       ...           0.016069      0.013420      0.010709      0.010941   \n",
       "std        ...           0.012008      0.009634      0.007060      0.007301   \n",
       "min        ...           0.000000      0.000800      0.000500      0.001000   \n",
       "25%        ...           0.008425      0.007275      0.005075      0.005375   \n",
       "50%        ...           0.013900      0.011400      0.009550      0.009300   \n",
       "75%        ...           0.020825      0.016725      0.014900      0.014500   \n",
       "max        ...           0.100400      0.070900      0.039000      0.035200   \n",
       "\n",
       "       attribute_55  attribute_56  attribute_57  attribute_58  attribute_59  \\\n",
       "count    208.000000    208.000000    208.000000    208.000000    208.000000   \n",
       "mean       0.009290      0.008222      0.007820      0.007949      0.007941   \n",
       "std        0.007088      0.005736      0.005785      0.006470      0.006181   \n",
       "min        0.000600      0.000400      0.000300      0.000300      0.000100   \n",
       "25%        0.004150      0.004400      0.003700      0.003600      0.003675   \n",
       "50%        0.007500      0.006850      0.005950      0.005800      0.006400   \n",
       "75%        0.012100      0.010575      0.010425      0.010350      0.010325   \n",
       "max        0.044700      0.039400      0.035500      0.044000      0.036400   \n",
       "\n",
       "       attribute_60  \n",
       "count    208.000000  \n",
       "mean       0.006507  \n",
       "std        0.005031  \n",
       "min        0.000600  \n",
       "25%        0.003100  \n",
       "50%        0.005300  \n",
       "75%        0.008525  \n",
       "max        0.043900  \n",
       "\n",
       "[8 rows x 60 columns]"
      ]
     },
     "execution_count": 3,
     "metadata": {},
     "output_type": "execute_result"
    }
   ],
   "source": [
    "# describe data\n",
    "from pandas import set_option\n",
    "\n",
    "set_option('precision', 6)\n",
    "data.describe()"
   ]
  },
  {
   "cell_type": "code",
   "execution_count": 4,
   "metadata": {
    "colab": {
     "base_uri": "https://localhost:8080/",
     "height": 707
    },
    "executionInfo": {
     "elapsed": 8149,
     "status": "ok",
     "timestamp": 1603703303341,
     "user": {
      "displayName": "Pakorn Yubolkosol",
      "photoUrl": "",
      "userId": "05702960693360342905"
     },
     "user_tz": -420
    },
    "id": "5Hcrl9UJKLWE",
    "outputId": "c7626fd7-7d40-4829-9cf3-368dc497c32f"
   },
   "outputs": [
    {
     "data": {
      "text/plain": [
       "<Figure size 1200x1200 with 64 Axes>"
      ]
     },
     "metadata": {},
     "output_type": "display_data"
    }
   ],
   "source": [
    "# histograms\n",
    "from matplotlib import pyplot\n",
    "\n",
    "data.hist(sharex=False, sharey=False, xlabelsize=1, ylabelsize=1, figsize=(12,12))\n",
    "pyplot.show()"
   ]
  },
  {
   "cell_type": "markdown",
   "metadata": {
    "id": "0hGZVgedSkPM"
   },
   "source": [
    "## 2) แยก features และ label"
   ]
  },
  {
   "cell_type": "markdown",
   "metadata": {
    "id": "yL9BVIjypIOi"
   },
   "source": [
    "แยก features เก็บไว้ใน matrix ใหม่ชื่อ `X` <br>\n",
    "แยก lable เก็บไว้ใน vector ใหม่ที่ชื่อ `y`"
   ]
  },
  {
   "cell_type": "code",
   "execution_count": 5,
   "metadata": {
    "id": "Oa2C5Q9fUhJQ"
   },
   "outputs": [],
   "source": [
    "X = data.drop(['Class'], axis=1)\n",
    "y = data[['Class']]"
   ]
  },
  {
   "cell_type": "markdown",
   "metadata": {
    "id": "QXm-9-BHcWXg"
   },
   "source": [
    "## 3) แบ่งข้อมูลเป็น 2 ส่วนเพื่อ train และ test"
   ]
  },
  {
   "cell_type": "markdown",
   "metadata": {
    "id": "QZITrt9nqczf"
   },
   "source": [
    "ใช้ `train_test_split` เพื่อแบ่งข้อมูลออกเป็น ข้อมูลสำหรับ train และสำหรับ test โดยในที่นี้ จะแบ่งข้อมูลไว้ 30% เพื่อทำการ test"
   ]
  },
  {
   "cell_type": "code",
   "execution_count": 6,
   "metadata": {
    "id": "X7vyIs-xXxLF"
   },
   "outputs": [],
   "source": [
    "from sklearn.model_selection import train_test_split\n",
    "\n",
    "X_train, X_test, y_train, y_test = train_test_split(X, y, test_size=0.3, random_state=13)"
   ]
  },
  {
   "cell_type": "markdown",
   "metadata": {
    "id": "OUZVwkCTtMOD"
   },
   "source": [
    "## 4) Train โมเดลด้วยข้อมูลที่แบ่งไว้"
   ]
  },
  {
   "cell_type": "markdown",
   "metadata": {
    "id": "Gzyx2O25sgu4"
   },
   "source": [
    "ใช้ decision tree เป็น classifier และทำการสร้าง instance จาก `DecisionTreeClassifier()` คลาส"
   ]
  },
  {
   "cell_type": "code",
   "execution_count": 7,
   "metadata": {
    "id": "3VhTf4_YZnYI"
   },
   "outputs": [],
   "source": [
    "from sklearn import tree\n",
    "model = tree.DecisionTreeClassifier()"
   ]
  },
  {
   "cell_type": "markdown",
   "metadata": {
    "id": "GDdyxPcWjoEo"
   },
   "source": [
    "หากต้องการใช้ classifier (algorithm) ตัวอื่นๆ ก็สามารถ import เข้ามาได้"
   ]
  },
  {
   "cell_type": "code",
   "execution_count": 8,
   "metadata": {
    "id": "qzJtkPbeepRp"
   },
   "outputs": [],
   "source": [
    "#from sklearn.linear_model import LogisticRegression\n",
    "#from sklearn.tree import DecisionTreeClassifier\n",
    "#from sklearn.neighbors import KNeighborsClassifier\n",
    "#from sklearn.discriminant_analysis import LinearDiscriminantAnalysis\n",
    "#from sklearn.naive_bayes import GaussianNB\n",
    "#from sklearn.svm import SVC"
   ]
  },
  {
   "cell_type": "code",
   "execution_count": 9,
   "metadata": {
    "colab": {
     "base_uri": "https://localhost:8080/",
     "height": 119
    },
    "executionInfo": {
     "elapsed": 802,
     "status": "ok",
     "timestamp": 1603703333661,
     "user": {
      "displayName": "Pakorn Yubolkosol",
      "photoUrl": "",
      "userId": "05702960693360342905"
     },
     "user_tz": -420
    },
    "id": "q66XDFOrgskk",
    "outputId": "35db0013-3e3c-4da3-cbf2-7b31dae449af"
   },
   "outputs": [
    {
     "data": {
      "text/plain": [
       "DecisionTreeClassifier()"
      ]
     },
     "execution_count": 9,
     "metadata": {},
     "output_type": "execute_result"
    }
   ],
   "source": [
    "#model = GaussianNB()\n",
    "#model = KNeighborsClassifier()\n",
    "#model.fit(X_train, y_train)"
   ]
  },
  {
   "cell_type": "markdown",
   "metadata": {
    "id": "7ZC3VTyh3F3C"
   },
   "source": [
    "ทำการ train โมเดล (หรือ fit) ด้วย `X_train` และ `y_train`"
   ]
  },
  {
   "cell_type": "code",
   "execution_count": 10,
   "metadata": {
    "colab": {
     "base_uri": "https://localhost:8080/",
     "height": 119
    },
    "executionInfo": {
     "elapsed": 884,
     "status": "ok",
     "timestamp": 1603703337331,
     "user": {
      "displayName": "Pakorn Yubolkosol",
      "photoUrl": "",
      "userId": "05702960693360342905"
     },
     "user_tz": -420
    },
    "id": "dvuWucqycBNb",
    "outputId": "88ffa03b-4839-410d-ae4f-06a5981174f8"
   },
   "outputs": [
    {
     "data": {
      "text/plain": [
       "DecisionTreeClassifier()"
      ]
     },
     "execution_count": 10,
     "metadata": {},
     "output_type": "execute_result"
    }
   ],
   "source": [
    "model.fit(X_train, y_train)"
   ]
  },
  {
   "cell_type": "markdown",
   "metadata": {
    "id": "O8cunIKeJCKi"
   },
   "source": [
    "## 5) วัดความแม่นยำของโมเดล"
   ]
  },
  {
   "cell_type": "markdown",
   "metadata": {
    "id": "3bp1Cho2ec2-"
   },
   "source": [
    "ใช้ model ที่สร้างขึ้นทำการทำนาย label ของข้อมูลที่ถูกแบ่งไว้ทดสอบ (`X_test`)"
   ]
  },
  {
   "cell_type": "code",
   "execution_count": 11,
   "metadata": {
    "id": "QD2cCNu4cOY9"
   },
   "outputs": [],
   "source": [
    "y_predict = model.predict(X_test)"
   ]
  },
  {
   "cell_type": "markdown",
   "metadata": {
    "id": "v5yMmD-s7Bs3"
   },
   "source": [
    "ใช้ `accuracy_score()` นับจำนวนค่าที่โมเดลทำนายถูกและผิด และคำนวนออกมาเป็นเปอร์เซ็นต์"
   ]
  },
  {
   "cell_type": "code",
   "execution_count": 12,
   "metadata": {
    "colab": {
     "base_uri": "https://localhost:8080/",
     "height": 34
    },
    "executionInfo": {
     "elapsed": 817,
     "status": "ok",
     "timestamp": 1603703344408,
     "user": {
      "displayName": "Pakorn Yubolkosol",
      "photoUrl": "",
      "userId": "05702960693360342905"
     },
     "user_tz": -420
    },
    "id": "Nrcb9rg4c3dB",
    "outputId": "8e8239b9-5bd5-45a1-9393-e95eb0eacabb"
   },
   "outputs": [
    {
     "data": {
      "text/plain": [
       "0.7619047619047619"
      ]
     },
     "execution_count": 12,
     "metadata": {},
     "output_type": "execute_result"
    }
   ],
   "source": [
    "from sklearn.metrics import accuracy_score\n",
    "accuracy_score(y_test, y_predict)"
   ]
  },
  {
   "cell_type": "markdown",
   "metadata": {
    "id": "MSnVbmTB9RE6"
   },
   "source": [
    "ลอง `print` ค่าที่โมเดลทำนายได้ออกมาดู บางส่วน"
   ]
  },
  {
   "cell_type": "code",
   "execution_count": 13,
   "metadata": {
    "colab": {
     "base_uri": "https://localhost:8080/",
     "height": 195
    },
    "executionInfo": {
     "elapsed": 689,
     "status": "ok",
     "timestamp": 1593408105668,
     "user": {
      "displayName": "Pakorn Ubolkosold",
      "photoUrl": "",
      "userId": "15709163515899094663"
     },
     "user_tz": -420
    },
    "id": "kQU766lYcdlu",
    "outputId": "dc7f413d-89d5-4b5d-a7bb-393d0a7dc0a3"
   },
   "outputs": [
    {
     "data": {
      "text/html": [
       "<div>\n",
       "<style scoped>\n",
       "    .dataframe tbody tr th:only-of-type {\n",
       "        vertical-align: middle;\n",
       "    }\n",
       "\n",
       "    .dataframe tbody tr th {\n",
       "        vertical-align: top;\n",
       "    }\n",
       "\n",
       "    .dataframe thead th {\n",
       "        text-align: right;\n",
       "    }\n",
       "</style>\n",
       "<table border=\"1\" class=\"dataframe\">\n",
       "  <thead>\n",
       "    <tr style=\"text-align: right;\">\n",
       "      <th></th>\n",
       "      <th>0</th>\n",
       "    </tr>\n",
       "  </thead>\n",
       "  <tbody>\n",
       "    <tr>\n",
       "      <th>0</th>\n",
       "      <td>Mine</td>\n",
       "    </tr>\n",
       "    <tr>\n",
       "      <th>1</th>\n",
       "      <td>Mine</td>\n",
       "    </tr>\n",
       "    <tr>\n",
       "      <th>2</th>\n",
       "      <td>Mine</td>\n",
       "    </tr>\n",
       "    <tr>\n",
       "      <th>3</th>\n",
       "      <td>Mine</td>\n",
       "    </tr>\n",
       "    <tr>\n",
       "      <th>4</th>\n",
       "      <td>Mine</td>\n",
       "    </tr>\n",
       "  </tbody>\n",
       "</table>\n",
       "</div>"
      ],
      "text/plain": [
       "      0\n",
       "0  Mine\n",
       "1  Mine\n",
       "2  Mine\n",
       "3  Mine\n",
       "4  Mine"
      ]
     },
     "execution_count": 13,
     "metadata": {},
     "output_type": "execute_result"
    }
   ],
   "source": [
    "y_predict\n",
    "y_predict = pd.DataFrame(data=y_predict)\n",
    "y_predict.head()"
   ]
  },
  {
   "cell_type": "markdown",
   "metadata": {
    "id": "fWwOoRxMAagF"
   },
   "source": [
    "ลอง `print` ค่าของ label จริงๆ ออกมาดูบางส่วนเพื่อเปรียบเทียบกับค่าที่ทำนายได้จากโมเดล"
   ]
  },
  {
   "cell_type": "code",
   "execution_count": 14,
   "metadata": {
    "colab": {
     "base_uri": "https://localhost:8080/",
     "height": 195
    },
    "executionInfo": {
     "elapsed": 1202,
     "status": "ok",
     "timestamp": 1593356819642,
     "user": {
      "displayName": "Pakorn Ubolkosold",
      "photoUrl": "",
      "userId": "15709163515899094663"
     },
     "user_tz": -420
    },
    "id": "RKM--PWu4H5a",
    "outputId": "ecb825bf-ce92-4297-fa2a-1405bd2b79be"
   },
   "outputs": [
    {
     "data": {
      "text/html": [
       "<div>\n",
       "<style scoped>\n",
       "    .dataframe tbody tr th:only-of-type {\n",
       "        vertical-align: middle;\n",
       "    }\n",
       "\n",
       "    .dataframe tbody tr th {\n",
       "        vertical-align: top;\n",
       "    }\n",
       "\n",
       "    .dataframe thead th {\n",
       "        text-align: right;\n",
       "    }\n",
       "</style>\n",
       "<table border=\"1\" class=\"dataframe\">\n",
       "  <thead>\n",
       "    <tr style=\"text-align: right;\">\n",
       "      <th></th>\n",
       "      <th>Class</th>\n",
       "    </tr>\n",
       "  </thead>\n",
       "  <tbody>\n",
       "    <tr>\n",
       "      <th>131</th>\n",
       "      <td>Mine</td>\n",
       "    </tr>\n",
       "    <tr>\n",
       "      <th>175</th>\n",
       "      <td>Mine</td>\n",
       "    </tr>\n",
       "    <tr>\n",
       "      <th>185</th>\n",
       "      <td>Mine</td>\n",
       "    </tr>\n",
       "    <tr>\n",
       "      <th>136</th>\n",
       "      <td>Mine</td>\n",
       "    </tr>\n",
       "    <tr>\n",
       "      <th>111</th>\n",
       "      <td>Mine</td>\n",
       "    </tr>\n",
       "  </tbody>\n",
       "</table>\n",
       "</div>"
      ],
      "text/plain": [
       "    Class\n",
       "131  Mine\n",
       "175  Mine\n",
       "185  Mine\n",
       "136  Mine\n",
       "111  Mine"
      ]
     },
     "execution_count": 14,
     "metadata": {},
     "output_type": "execute_result"
    }
   ],
   "source": [
    "y_test.head()"
   ]
  },
  {
   "cell_type": "code",
   "execution_count": null,
   "metadata": {},
   "outputs": [],
   "source": [
    "import pickle\n",
    "# save the model to disk\n",
    "filename = 'pickle_finalized_model.sav'\n",
    "pickle.dump(model, open(filename, 'wb'))"
   ]
  },
  {
   "cell_type": "markdown",
   "metadata": {
    "id": "flM9AkAqA3co"
   },
   "source": [
    "## 6) การนำโมเดลไปใช้กับข้อมูลใหม่"
   ]
  },
  {
   "cell_type": "markdown",
   "metadata": {
    "id": "fBIUjjuNDUVd"
   },
   "source": [
    "ลองสมมติข้อมูลใหม่ขึ้นมา ในที่นี้คือ `5.2, 3.2, 1.1, 0.1`"
   ]
  },
  {
   "cell_type": "code",
   "execution_count": 15,
   "metadata": {
    "colab": {
     "base_uri": "https://localhost:8080/",
     "height": 101
    },
    "executionInfo": {
     "elapsed": 1106,
     "status": "ok",
     "timestamp": 1593356981254,
     "user": {
      "displayName": "Pakorn Ubolkosold",
      "photoUrl": "",
      "userId": "15709163515899094663"
     },
     "user_tz": -420
    },
    "id": "U5h489Ou3-X7",
    "outputId": "43e32409-069f-4093-e3f7-959ebfa16098"
   },
   "outputs": [
    {
     "name": "stdout",
     "output_type": "stream",
     "text": [
      "     attribute_1  attribute_2  attribute_3  attribute_4  attribute_5  \\\n",
      "106       0.0331       0.0423       0.0474       0.0818       0.0835   \n",
      "107       0.0428       0.0555       0.0708       0.0618       0.1215   \n",
      "\n",
      "     attribute_6  attribute_7  attribute_8  attribute_9  attribute_10  \\\n",
      "106       0.0756       0.0374       0.0961       0.0548        0.0193   \n",
      "107       0.1524       0.1543       0.0391       0.0610        0.0113   \n",
      "\n",
      "         ...       attribute_51  attribute_52  attribute_53  attribute_54  \\\n",
      "106      ...             0.0133        0.0078        0.0174        0.0176   \n",
      "107      ...             0.0009        0.0142        0.0179        0.0079   \n",
      "\n",
      "     attribute_55  attribute_56  attribute_57  attribute_58  attribute_59  \\\n",
      "106        0.0038        0.0129        0.0066        0.0044        0.0134   \n",
      "107        0.0060        0.0131        0.0089        0.0084        0.0113   \n",
      "\n",
      "     attribute_60  \n",
      "106        0.0092  \n",
      "107        0.0049  \n",
      "\n",
      "[2 rows x 60 columns]\n"
     ]
    }
   ],
   "source": [
    "d = X[106:108]\n",
    "\n",
    "X_new = d\n",
    "print(X_new)"
   ]
  },
  {
   "cell_type": "markdown",
   "metadata": {
    "id": "cTHWmZKRDtfY"
   },
   "source": [
    "ใส่ข้อมูลใหม่ให้โมเดลทำนาย และ `print` ผลการทำนายออกมาดู"
   ]
  },
  {
   "cell_type": "code",
   "execution_count": null,
   "metadata": {},
   "outputs": [],
   "source": [
    "# load the model from disk\n",
    "loaded_model = pickle.load(open(filename, 'rb'))"
   ]
  },
  {
   "cell_type": "code",
   "execution_count": 16,
   "metadata": {
    "colab": {
     "base_uri": "https://localhost:8080/",
     "height": 84
    },
    "executionInfo": {
     "elapsed": 1117,
     "status": "ok",
     "timestamp": 1593356987106,
     "user": {
      "displayName": "Pakorn Ubolkosold",
      "photoUrl": "",
      "userId": "15709163515899094663"
     },
     "user_tz": -420
    },
    "id": "aNbBQgWB4kpk",
    "outputId": "8b98695f-46e3-4be9-f40e-74a2ef4d4b2c"
   },
   "outputs": [
    {
     "name": "stdout",
     "output_type": "stream",
     "text": [
      "['Mine' 'Mine']\n",
      "    Class\n",
      "106  Mine\n",
      "107  Mine\n"
     ]
    }
   ],
   "source": [
    "y_new = model.predict(X_new)\n",
    "print(y_new)\n",
    "print(y[106:108])"
   ]
  },
  {
   "cell_type": "markdown",
   "metadata": {
    "id": "aXyYjUIlXaxZ"
   },
   "source": [
    "## 7) ลองดู Tree ที่ได้จากการ train"
   ]
  },
  {
   "cell_type": "code",
   "execution_count": 17,
   "metadata": {
    "colab": {
     "base_uri": "https://localhost:8080/",
     "height": 759
    },
    "executionInfo": {
     "elapsed": 1097,
     "status": "ok",
     "timestamp": 1593357136602,
     "user": {
      "displayName": "Pakorn Ubolkosold",
      "photoUrl": "",
      "userId": "15709163515899094663"
     },
     "user_tz": -420
    },
    "id": "LkgMHciPvHy2",
    "outputId": "35288dc4-57b4-4872-f60e-63a5594f41e1"
   },
   "outputs": [
    {
     "name": "stdout",
     "output_type": "stream",
     "text": [
      "|--- attribute_12 <= 0.23\n",
      "|   |--- attribute_20 <= 0.83\n",
      "|   |   |--- attribute_47 <= 0.25\n",
      "|   |   |   |--- class: Rock\n",
      "|   |   |--- attribute_47 >  0.25\n",
      "|   |   |   |--- attribute_39 <= 0.78\n",
      "|   |   |   |   |--- class: Mine\n",
      "|   |   |   |--- attribute_39 >  0.78\n",
      "|   |   |   |   |--- class: Rock\n",
      "|   |--- attribute_20 >  0.83\n",
      "|   |   |--- attribute_27 <= 0.88\n",
      "|   |   |   |--- class: Mine\n",
      "|   |   |--- attribute_27 >  0.88\n",
      "|   |   |   |--- class: Rock\n",
      "|--- attribute_12 >  0.23\n",
      "|   |--- attribute_27 <= 0.79\n",
      "|   |   |--- attribute_51 <= 0.01\n",
      "|   |   |   |--- attribute_53 <= 0.02\n",
      "|   |   |   |   |--- attribute_23 <= 0.87\n",
      "|   |   |   |   |   |--- class: Rock\n",
      "|   |   |   |   |--- attribute_23 >  0.87\n",
      "|   |   |   |   |   |--- class: Mine\n",
      "|   |   |   |--- attribute_53 >  0.02\n",
      "|   |   |   |   |--- attribute_55 <= 0.00\n",
      "|   |   |   |   |   |--- class: Rock\n",
      "|   |   |   |   |--- attribute_55 >  0.00\n",
      "|   |   |   |   |   |--- class: Mine\n",
      "|   |   |--- attribute_51 >  0.01\n",
      "|   |   |   |--- attribute_58 <= 0.01\n",
      "|   |   |   |   |--- attribute_5 <= 0.10\n",
      "|   |   |   |   |   |--- class: Rock\n",
      "|   |   |   |   |--- attribute_5 >  0.10\n",
      "|   |   |   |   |   |--- class: Mine\n",
      "|   |   |   |--- attribute_58 >  0.01\n",
      "|   |   |   |   |--- class: Mine\n",
      "|   |--- attribute_27 >  0.79\n",
      "|   |   |--- attribute_37 <= 0.91\n",
      "|   |   |   |--- class: Mine\n",
      "|   |   |--- attribute_37 >  0.91\n",
      "|   |   |   |--- class: Rock\n",
      "\n"
     ]
    },
    {
     "name": "stderr",
     "output_type": "stream",
     "text": [
      "c:\\users\\george\\appdata\\local\\programs\\python\\python36\\lib\\site-packages\\sklearn\\utils\\deprecation.py:143: FutureWarning: The sklearn.tree.export module is  deprecated in version 0.22 and will be removed in version 0.24. The corresponding classes / functions should instead be imported from sklearn.tree. Anything that cannot be imported from sklearn.tree is now part of the private API.\n",
      "  warnings.warn(message, FutureWarning)\n"
     ]
    }
   ],
   "source": [
    "from sklearn.tree.export import export_text\n",
    "tree_rules = export_text(model, feature_names=list(X_train))\n",
    "print(tree_rules)"
   ]
  },
  {
   "cell_type": "markdown",
   "metadata": {
    "id": "FwryMhBRXsLm"
   },
   "source": [
    "## 8) ดู Confusion matrix"
   ]
  },
  {
   "cell_type": "code",
   "execution_count": 18,
   "metadata": {
    "colab": {
     "base_uri": "https://localhost:8080/",
     "height": 346
    },
    "executionInfo": {
     "elapsed": 1548,
     "status": "ok",
     "timestamp": 1593357151480,
     "user": {
      "displayName": "Pakorn Ubolkosold",
      "photoUrl": "",
      "userId": "15709163515899094663"
     },
     "user_tz": -420
    },
    "id": "GIhGXnuRvYYA",
    "outputId": "a39d1c8c-52da-4b47-e7d1-c2da5f4ac51a"
   },
   "outputs": [
    {
     "name": "stdout",
     "output_type": "stream",
     "text": [
      "Confusion matrix, without normalization\n",
      "[[31  7]\n",
      " [ 8 17]]\n"
     ]
    },
    {
     "data": {
      "image/png": "[encoded data removed]",
      "text/plain": [
       "<Figure size 432x288 with 2 Axes>"
      ]
     },
     "metadata": {
      "needs_background": "light"
     },
     "output_type": "display_data"
    }
   ],
   "source": [
    "from sklearn.metrics import plot_confusion_matrix\n",
    "import matplotlib.pyplot as plt\n",
    "\n",
    "# Plot non-normalized confusion matrix\n",
    "titles_options = [(\"Confusion matrix, without normalization\", None)]\n",
    "for title, normalize in titles_options:\n",
    "    disp = plot_confusion_matrix(model, X_test, y_test,\n",
    "                                 cmap=plt.cm.Blues,\n",
    "                                 normalize=normalize)\n",
    "    disp.ax_.set_title(title)\n",
    "\n",
    "    print(title)\n",
    "    print(disp.confusion_matrix)\n",
    "\n",
    "plt.show()"
   ]
  }
 ],
 "metadata": {
  "colab": {
   "collapsed_sections": [],
   "name": "GaussianNB_sonar_ie311.ipynb",
   "provenance": [
    {
     "file_id": "1tb7T18cqYLmQw4SRTluWrG3tp5QcT7Rr",
     "timestamp": 1603696378884
    },
    {
     "file_id": "14BNE6at9-5zseo9XQozMcalRuXC0d1GI",
     "timestamp": 1593316360097
    }
   ],
   "toc_visible": true
  },
  "kernelspec": {
   "display_name": "Python 3",
   "language": "python",
   "name": "python3"
  },
  "language_info": {
   "codemirror_mode": {
    "name": "ipython",
    "version": 3
   },
   "file_extension": ".py",
   "mimetype": "text/x-python",
   "name": "python",
   "nbconvert_exporter": "python",
   "pygments_lexer": "ipython3",
   "version": "3.6.7"
  }
 },
 "nbformat": 4,
 "nbformat_minor": 1
}
