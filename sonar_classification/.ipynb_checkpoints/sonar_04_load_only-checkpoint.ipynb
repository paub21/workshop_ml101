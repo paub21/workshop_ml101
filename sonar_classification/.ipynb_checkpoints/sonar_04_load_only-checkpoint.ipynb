{
 "cells": [
  {
   "cell_type": "markdown",
   "id": "ff564e1d",
   "metadata": {},
   "source": [
    "**โดย ดร.ปกรณ์ ยุบลโกศล** <br> <br>\n",
    "Notebook นี้แสดงให้เห็นเฉพาะการ load โมเดล มาใช้ทำนายข้อมูลใหม่"
   ]
  },
  {
   "cell_type": "code",
   "execution_count": 46,
   "id": "df20f57b",
   "metadata": {},
   "outputs": [],
   "source": [
    "import pickle"
   ]
  },
  {
   "cell_type": "code",
   "execution_count": 47,
   "id": "f47e2ba6",
   "metadata": {},
   "outputs": [],
   "source": [
    "# load the model from disk\n",
    "loaded_model = pickle.load(open('model.sav', 'rb'))"
   ]
  },
  {
   "cell_type": "code",
   "execution_count": 48,
   "id": "1105cde3",
   "metadata": {},
   "outputs": [],
   "source": [
    "import pandas as pd\n",
    "url = 'sonar.csv'\n",
    "data = pd.read_csv(url)\n",
    "\n",
    "X = data.drop(['Class'], axis=1)\n",
    "\n",
    "#ใช้ข้อมูลที่นำมา train มาทดสอบเหมือนว่าเป็นข้อมูลชุดใหม่ เลือกออกมาซัก 1 แถว\n",
    "row_num = 106\n",
    "d = X[row_num:row_num+1]\n",
    "X_new = d\n",
    "#print(X_new)"
   ]
  },
  {
   "cell_type": "code",
   "execution_count": 49,
   "id": "bff63e08",
   "metadata": {},
   "outputs": [
    {
     "name": "stdout",
     "output_type": "stream",
     "text": [
      "['Mine']\n"
     ]
    }
   ],
   "source": [
    "y_new = loaded_model.predict(X_new)\n",
    "print(y_new)"
   ]
  },
  {
   "cell_type": "code",
   "execution_count": 50,
   "id": "6a132aaa",
   "metadata": {},
   "outputs": [
    {
     "name": "stdout",
     "output_type": "stream",
     "text": [
      "The actual lable of test data : Mine\n"
     ]
    }
   ],
   "source": [
    "# ตรวจ label จริงของข้อมูลตัวอย่างที่นำมาทดลอง\n",
    "print('The actual lable of test data : {}'.format(data['Class'].iloc[row_num]))\n",
    "#df.iloc[2,:]"
   ]
  },
  {
   "cell_type": "code",
   "execution_count": null,
   "id": "815de62f",
   "metadata": {},
   "outputs": [],
   "source": []
  }
 ],
 "metadata": {
  "kernelspec": {
   "display_name": "Python 3",
   "language": "python",
   "name": "python3"
  },
  "language_info": {
   "codemirror_mode": {
    "name": "ipython",
    "version": 3
   },
   "file_extension": ".py",
   "mimetype": "text/x-python",
   "name": "python",
   "nbconvert_exporter": "python",
   "pygments_lexer": "ipython3",
   "version": "3.6.7"
  }
 },
 "nbformat": 4,
 "nbformat_minor": 5
}
