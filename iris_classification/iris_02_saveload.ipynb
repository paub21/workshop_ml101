{
 "cells": [
  {
   "cell_type": "markdown",
   "id": "e226520c",
   "metadata": {},
   "source": [
    "**โดย ดร.ปกรณ์ ยุบลโกศล**"
   ]
  },
  {
   "cell_type": "markdown",
   "id": "50070dac",
   "metadata": {},
   "source": [
    "Notebook นี้แสดงให้เห็นการ train -> save -> load ให้ดูในโปรแกรมเดียว แต่จริงๆแล้ว จะต้องแยกโปรแกรม train&save และ โปรแกรม load โดยหลังจาก train&save โมเดลเสร็จแล้ว ใช้โปรแกรมสำหรับโหลด load โมเดลขึ้นมาเพื่อทำการทำนาย"
   ]
  },
  {
   "cell_type": "markdown",
   "id": "9dd9a545",
   "metadata": {},
   "source": [
    "## 1) นำเข้าข้อมูล"
   ]
  },
  {
   "cell_type": "code",
   "execution_count": 1,
   "id": "29c5769e",
   "metadata": {},
   "outputs": [],
   "source": [
    "import pandas as pd\n",
    "#url = 'https://raw.githubusercontent.com/BU-MLearning/Summer/master/iris.csv'\n",
    "#data = pd.read_csv(url)\n",
    "data = pd.read_csv('iris.csv')"
   ]
  },
  {
   "cell_type": "code",
   "execution_count": 2,
   "id": "8123be92",
   "metadata": {},
   "outputs": [],
   "source": [
    "#data.head(10)\n",
    "#data.shape"
   ]
  },
  {
   "cell_type": "code",
   "execution_count": 3,
   "id": "0d9b5c44",
   "metadata": {},
   "outputs": [
    {
     "data": {
      "text/plain": [
       "(150, 2)"
      ]
     },
     "execution_count": 3,
     "metadata": {},
     "output_type": "execute_result"
    }
   ],
   "source": [
    "#data['species']\n",
    "data[['sepal_length', 'sepal_width']]\n",
    "data[['sepal_length', 'sepal_width']].shape"
   ]
  },
  {
   "cell_type": "code",
   "execution_count": 4,
   "id": "a0d57455",
   "metadata": {},
   "outputs": [],
   "source": [
    "setosa = data['species'] == \"setosa\"\n",
    "#print(data[setosa].shape) # ดูจำนวน\n",
    "#print(data[setosa].mean()) # ดู mean\n",
    "#setosa"
   ]
  },
  {
   "cell_type": "markdown",
   "id": "4cd88d22",
   "metadata": {},
   "source": [
    "## 2) แยก features และ label\n",
    "\n",
    "หากต้องการทำนาย สายพันธ์ (species) ของดอก iris \n",
    "\n",
    "ดังนั้น <br>\n",
    "`species` จะเป็น label <br>\n",
    "`sepal_length`, `sepal_width`, `petal_length`, `petal_width` จะเป็น features\n",
    "\n",
    "แยก features เก็บไว้ใน matrix ใหม่ชื่อ `X` <br>\n",
    "แยก lable เก็บไว้ใน vector ใหม่ที่ชื่อ `y`"
   ]
  },
  {
   "cell_type": "code",
   "execution_count": 5,
   "id": "46ac9824",
   "metadata": {},
   "outputs": [],
   "source": [
    "X = data.drop(['species'], axis=1)\n",
    "y = data[['species']]"
   ]
  },
  {
   "cell_type": "markdown",
   "id": "a3a0806a",
   "metadata": {},
   "source": [
    "## 3) แบ่งข้อมูลเป็น 2 ส่วนเพื่อ train และ test\n",
    "ใช้ฟังชั่น `train_test_split` เพื่อแบ่งข้อมูลออกเป็น ข้อมูลสำหรับ train และสำหรับ test โดยในที่นี้ จะแบ่งข้อมูลไว้ 30% เพื่อทำการ test"
   ]
  },
  {
   "cell_type": "code",
   "execution_count": 6,
   "id": "28d10c87",
   "metadata": {},
   "outputs": [],
   "source": [
    "from sklearn.model_selection import train_test_split\n",
    "\n",
    "X_train, X_test, y_train, y_test = train_test_split(X, y, test_size=0.3, random_state=113)"
   ]
  },
  {
   "cell_type": "markdown",
   "id": "d4fb8c2d",
   "metadata": {},
   "source": [
    "## 4) Train โมเดลด้วยข้อมูลที่แบ่งไว้\n",
    "ใช้ decision tree เป็น classifier และทำการสร้าง instance จาก `DecisionTreeClassifier()` คลาส"
   ]
  },
  {
   "cell_type": "code",
   "execution_count": 7,
   "id": "1c74e701",
   "metadata": {},
   "outputs": [],
   "source": [
    "from sklearn import tree\n",
    "model = tree.DecisionTreeClassifier()"
   ]
  },
  {
   "cell_type": "markdown",
   "id": "038978b7",
   "metadata": {},
   "source": [
    "ทำการ train โมเดล (หรือ fit) ด้วย `X_train` และ `y_train`"
   ]
  },
  {
   "cell_type": "code",
   "execution_count": 8,
   "id": "abaf5217",
   "metadata": {},
   "outputs": [
    {
     "data": {
      "text/plain": [
       "DecisionTreeClassifier()"
      ]
     },
     "execution_count": 8,
     "metadata": {},
     "output_type": "execute_result"
    }
   ],
   "source": [
    "model.fit(X_train, y_train)"
   ]
  },
  {
   "cell_type": "code",
   "execution_count": 9,
   "id": "b0775ce5",
   "metadata": {},
   "outputs": [],
   "source": [
    "y_predict = model.predict(X_test)"
   ]
  },
  {
   "cell_type": "code",
   "execution_count": 10,
   "id": "bd32abda",
   "metadata": {},
   "outputs": [],
   "source": [
    "#print(y_predict)\n",
    "#print(y_test)"
   ]
  },
  {
   "cell_type": "markdown",
   "id": "fdff1f67",
   "metadata": {},
   "source": [
    "## 5) วัดความแม่นยำของโมเดล"
   ]
  },
  {
   "cell_type": "markdown",
   "id": "ee4e399c",
   "metadata": {},
   "source": [
    "ใช้ `accuracy_score()` นับจำนวนค่าที่โมเดลทำนายถูกและผิด และคำนวนออกมาเป็นเปอร์เซ็นต์"
   ]
  },
  {
   "cell_type": "code",
   "execution_count": 11,
   "id": "ff7b9e3d",
   "metadata": {},
   "outputs": [
    {
     "name": "stdout",
     "output_type": "stream",
     "text": [
      "Prediction accuracy : 0.9777777777777777\n"
     ]
    }
   ],
   "source": [
    "from sklearn.metrics import accuracy_score\n",
    "accuracy_score(y_test, y_predict)\n",
    "print('Prediction accuracy : {}'.format(accuracy_score(y_test, y_predict)))"
   ]
  },
  {
   "cell_type": "markdown",
   "id": "f6c13009",
   "metadata": {},
   "source": [
    "ลอง `print` ค่าที่โมเดลทำนายได้ออกมาดู บางส่วน"
   ]
  },
  {
   "cell_type": "code",
   "execution_count": 12,
   "id": "e980e81a",
   "metadata": {},
   "outputs": [],
   "source": [
    "#convert y_predict to dataframe and display\n",
    "#y_predict = pd.DataFrame(y_predict, columns = ['y_predict'])\n",
    "#y_predict.head()"
   ]
  },
  {
   "cell_type": "markdown",
   "id": "e2dfb063",
   "metadata": {},
   "source": [
    "## 6) Save โมเดลเก็บไว้บนเครื่อง\n",
    "ใช้ pickle ช่วยในการ save โมเดล"
   ]
  },
  {
   "cell_type": "code",
   "execution_count": 13,
   "id": "aa4f2afe",
   "metadata": {},
   "outputs": [],
   "source": [
    "import pickle\n",
    "# save the model to disk\n",
    "filename = 'pickle_finalized_model.sav'\n",
    "pickle.dump(model, open(filename, 'wb'))"
   ]
  },
  {
   "cell_type": "markdown",
   "id": "3c1a2a02",
   "metadata": {},
   "source": [
    "## 7) โหลดโมเดลที่ save เก็บไว้ขึ้นมาใช้กับข้อมูลใหม่\n",
    "ลองสมมติข้อมูลใหม่ขึ้นมา ในที่นี้คือ `5.2, 3.2, 1.1, 0.1`"
   ]
  },
  {
   "cell_type": "code",
   "execution_count": 14,
   "id": "7d0d6424",
   "metadata": {},
   "outputs": [
    {
     "name": "stdout",
     "output_type": "stream",
     "text": [
      "[[5.2, 3.2, 1.1, 0.1]]\n"
     ]
    }
   ],
   "source": [
    "#d = {'col1': [5.2], 'col2': [3.2] , 'col3': [1.1], 'col4': [0.1]}\n",
    "#X_new = pd.DataFrame(data=d)\n",
    "\n",
    "d = [[ 5.2,  3.2,  1.1,  0.1]]\n",
    "X_new = d\n",
    "print(X_new)"
   ]
  },
  {
   "cell_type": "markdown",
   "id": "e0ea3d54",
   "metadata": {},
   "source": [
    "ใช้ pickle ช่วยในการโหลดโมเดลกลับมาใช้ทำนายข้อมูล"
   ]
  },
  {
   "cell_type": "code",
   "execution_count": 15,
   "id": "351b7d58",
   "metadata": {},
   "outputs": [],
   "source": [
    "# load the model from disk\n",
    "loaded_model = pickle.load(open(filename, 'rb'))"
   ]
  },
  {
   "cell_type": "markdown",
   "id": "05f1ac9a",
   "metadata": {},
   "source": [
    "ใส่ข้อมูลใหม่ให้โมเดลทำนาย และ `print` ผลการทำนายออกมาดู"
   ]
  },
  {
   "cell_type": "code",
   "execution_count": 16,
   "id": "7c83a760",
   "metadata": {},
   "outputs": [
    {
     "name": "stdout",
     "output_type": "stream",
     "text": [
      "['setosa']\n"
     ]
    }
   ],
   "source": [
    "y_new = loaded_model.predict(X_new)\n",
    "print(y_new)"
   ]
  },
  {
   "cell_type": "markdown",
   "id": "d65c8ec9",
   "metadata": {},
   "source": [
    "## 8) ลองดูโมเดล Tree ที่ได้จากการ train \n",
    "\n",
    "หมายเหตุ: การแสดงผลแบบนี้ทำได้กับ Decision Tree เท่านั้น"
   ]
  },
  {
   "cell_type": "code",
   "execution_count": 17,
   "id": "e817ffbf",
   "metadata": {},
   "outputs": [
    {
     "name": "stderr",
     "output_type": "stream",
     "text": [
      "c:\\users\\george\\appdata\\local\\programs\\python\\python36\\lib\\site-packages\\sklearn\\utils\\deprecation.py:143: FutureWarning: The sklearn.tree.export module is  deprecated in version 0.22 and will be removed in version 0.24. The corresponding classes / functions should instead be imported from sklearn.tree. Anything that cannot be imported from sklearn.tree is now part of the private API.\n",
      "  warnings.warn(message, FutureWarning)\n"
     ]
    }
   ],
   "source": [
    "from sklearn.tree.export import export_text\n",
    "tree_rules = export_text(model, feature_names=list(X_train))\n",
    "#print(tree_rules)"
   ]
  }
 ],
 "metadata": {
  "kernelspec": {
   "display_name": "Python 3",
   "language": "python",
   "name": "python3"
  },
  "language_info": {
   "codemirror_mode": {
    "name": "ipython",
    "version": 3
   },
   "file_extension": ".py",
   "mimetype": "text/x-python",
   "name": "python",
   "nbconvert_exporter": "python",
   "pygments_lexer": "ipython3",
   "version": "3.6.7"
  }
 },
 "nbformat": 4,
 "nbformat_minor": 5
}
