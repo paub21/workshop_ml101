{
 "cells": [
  {
   "cell_type": "markdown",
   "id": "31909aef",
   "metadata": {},
   "source": [
    "**โดย ดร.ปกรณ์ ยุบลโกศล** <br> <br>\n",
    "Notebook นี้แสดงให้เห็นเฉพาะการ train และ save โมเดล"
   ]
  },
  {
   "cell_type": "markdown",
   "id": "4d1b61ff",
   "metadata": {},
   "source": [
    "## 1) นำเข้าข้อมูล"
   ]
  },
  {
   "cell_type": "code",
   "execution_count": 1,
   "id": "aec334ab",
   "metadata": {},
   "outputs": [],
   "source": [
    "import pandas as pd\n",
    "#url = 'https://raw.githubusercontent.com/BU-MLearning/Summer/master/iris.csv'\n",
    "#data = pd.read_csv(url)\n",
    "data = pd.read_csv('iris.csv')"
   ]
  },
  {
   "cell_type": "code",
   "execution_count": 2,
   "id": "f70fb0aa",
   "metadata": {},
   "outputs": [],
   "source": [
    "#data.head(10)\n",
    "#data.shape"
   ]
  },
  {
   "cell_type": "code",
   "execution_count": 3,
   "id": "3f49680e",
   "metadata": {},
   "outputs": [
    {
     "data": {
      "text/plain": [
       "(150, 2)"
      ]
     },
     "execution_count": 3,
     "metadata": {},
     "output_type": "execute_result"
    }
   ],
   "source": [
    "#data['species']\n",
    "data[['sepal_length', 'sepal_width']]\n",
    "data[['sepal_length', 'sepal_width']].shape"
   ]
  },
  {
   "cell_type": "code",
   "execution_count": 4,
   "id": "57d376b5",
   "metadata": {},
   "outputs": [],
   "source": [
    "setosa = data['species'] == \"setosa\"\n",
    "#print(data[setosa].shape) # ดูจำนวน\n",
    "#print(data[setosa].mean()) # ดู mean\n",
    "#setosa"
   ]
  },
  {
   "cell_type": "markdown",
   "id": "56c35bf0",
   "metadata": {},
   "source": [
    "## 2) แยก features และ label\n",
    "\n",
    "หากต้องการทำนาย สายพันธ์ (species) ของดอก iris \n",
    "\n",
    "ดังนั้น <br>\n",
    "`species` จะเป็น label <br>\n",
    "`sepal_length`, `sepal_width`, `petal_length`, `petal_width` จะเป็น features\n",
    "\n",
    "แยก features เก็บไว้ใน matrix ใหม่ชื่อ `X` <br>\n",
    "แยก lable เก็บไว้ใน vector ใหม่ที่ชื่อ `y`"
   ]
  },
  {
   "cell_type": "code",
   "execution_count": 5,
   "id": "adba971b",
   "metadata": {},
   "outputs": [],
   "source": [
    "X = data.drop(['species'], axis=1)\n",
    "y = data[['species']]"
   ]
  },
  {
   "cell_type": "markdown",
   "id": "18c6388e",
   "metadata": {},
   "source": [
    "## 3) แบ่งข้อมูลเป็น 2 ส่วนเพื่อ train และ test\n",
    "ใช้ฟังชั่น `train_test_split` เพื่อแบ่งข้อมูลออกเป็น ข้อมูลสำหรับ train และสำหรับ test โดยในที่นี้ จะแบ่งข้อมูลไว้ 30% เพื่อทำการ test"
   ]
  },
  {
   "cell_type": "code",
   "execution_count": 6,
   "id": "54c4c8a2",
   "metadata": {},
   "outputs": [],
   "source": [
    "from sklearn.model_selection import train_test_split\n",
    "\n",
    "X_train, X_test, y_train, y_test = train_test_split(X, y, test_size=0.3, random_state=113)"
   ]
  },
  {
   "cell_type": "markdown",
   "id": "1b2f8003",
   "metadata": {},
   "source": [
    "## 4) Train โมเดลด้วยข้อมูลที่แบ่งไว้\n",
    "ใช้ decision tree เป็น classifier และทำการสร้าง instance จาก `DecisionTreeClassifier()` คลาส"
   ]
  },
  {
   "cell_type": "code",
   "execution_count": 7,
   "id": "3889e828",
   "metadata": {},
   "outputs": [],
   "source": [
    "from sklearn import tree\n",
    "model = tree.DecisionTreeClassifier()"
   ]
  },
  {
   "cell_type": "markdown",
   "id": "f2572e59",
   "metadata": {},
   "source": [
    "ทำการ train โมเดล (หรือ fit) ด้วย `X_train` และ `y_train`"
   ]
  },
  {
   "cell_type": "code",
   "execution_count": 8,
   "id": "34dba024",
   "metadata": {},
   "outputs": [
    {
     "data": {
      "text/plain": [
       "DecisionTreeClassifier()"
      ]
     },
     "execution_count": 8,
     "metadata": {},
     "output_type": "execute_result"
    }
   ],
   "source": [
    "model.fit(X_train, y_train)"
   ]
  },
  {
   "cell_type": "code",
   "execution_count": 9,
   "id": "ba6b80f8",
   "metadata": {},
   "outputs": [],
   "source": [
    "y_predict = model.predict(X_test)"
   ]
  },
  {
   "cell_type": "code",
   "execution_count": 10,
   "id": "670551e6",
   "metadata": {},
   "outputs": [],
   "source": [
    "#print(y_predict)\n",
    "#print(y_test)"
   ]
  },
  {
   "cell_type": "markdown",
   "id": "ee99067a",
   "metadata": {},
   "source": [
    "## 5) วัดความแม่นยำของโมเดล"
   ]
  },
  {
   "cell_type": "markdown",
   "id": "f439c85d",
   "metadata": {},
   "source": [
    "ใช้ `accuracy_score()` นับจำนวนค่าที่โมเดลทำนายถูกและผิด และคำนวนออกมาเป็นเปอร์เซ็นต์"
   ]
  },
  {
   "cell_type": "code",
   "execution_count": 11,
   "id": "e58ece5b",
   "metadata": {},
   "outputs": [
    {
     "name": "stdout",
     "output_type": "stream",
     "text": [
      "Prediction accuracy : 0.9777777777777777\n"
     ]
    }
   ],
   "source": [
    "from sklearn.metrics import accuracy_score\n",
    "accuracy_score(y_test, y_predict)\n",
    "print('Prediction accuracy : {}'.format(accuracy_score(y_test, y_predict)))"
   ]
  },
  {
   "cell_type": "markdown",
   "id": "b8a0e544",
   "metadata": {},
   "source": [
    "ลอง `print` ค่าที่โมเดลทำนายได้ออกมาดู บางส่วน"
   ]
  },
  {
   "cell_type": "code",
   "execution_count": 12,
   "id": "7b7745e2",
   "metadata": {},
   "outputs": [],
   "source": [
    "#convert y_predict to dataframe and display\n",
    "#y_predict = pd.DataFrame(y_predict, columns = ['y_predict'])\n",
    "#y_predict.head()"
   ]
  },
  {
   "cell_type": "markdown",
   "id": "9e37bf1c",
   "metadata": {},
   "source": [
    "## 6) Save โมเดลเก็บไว้บนเครื่อง\n",
    "หากพอใจกับความแม่นยำแล้ว ก็ใช้ pickle ช่วยในการ save โมเดล"
   ]
  },
  {
   "cell_type": "code",
   "execution_count": 13,
   "id": "16436d04",
   "metadata": {},
   "outputs": [
    {
     "name": "stdout",
     "output_type": "stream",
     "text": [
      "model.sav has been saved\n"
     ]
    }
   ],
   "source": [
    "import pickle\n",
    "# save the model to disk\n",
    "filename = 'model.sav'\n",
    "pickle.dump(model, open(filename, 'wb'))\n",
    "\n",
    "print('{} has been saved'.format(filename))"
   ]
  }
 ],
 "metadata": {
  "kernelspec": {
   "display_name": "Python 3",
   "language": "python",
   "name": "python3"
  },
  "language_info": {
   "codemirror_mode": {
    "name": "ipython",
    "version": 3
   },
   "file_extension": ".py",
   "mimetype": "text/x-python",
   "name": "python",
   "nbconvert_exporter": "python",
   "pygments_lexer": "ipython3",
   "version": "3.6.7"
  }
 },
 "nbformat": 4,
 "nbformat_minor": 5
}
