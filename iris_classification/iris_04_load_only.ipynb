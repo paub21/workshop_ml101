{
 "cells": [
  {
   "cell_type": "markdown",
   "id": "1fc228e2",
   "metadata": {},
   "source": [
    "## 1) โหลดโมเดลที่ save เก็บไว้ขึ้นมาใช้กับข้อมูลใหม่"
   ]
  },
  {
   "cell_type": "code",
   "execution_count": 17,
   "id": "91468fd9",
   "metadata": {},
   "outputs": [],
   "source": [
    "import pickle"
   ]
  },
  {
   "cell_type": "markdown",
   "id": "ca2655a6",
   "metadata": {},
   "source": [
    "ใช้ pickle ช่วยในการโหลดโมเดลกลับมาใช้ทำนายข้อมูล"
   ]
  },
  {
   "cell_type": "code",
   "execution_count": 18,
   "id": "18261d3e",
   "metadata": {},
   "outputs": [],
   "source": [
    "# load the model from disk\n",
    "loaded_model = pickle.load(open('model.sav', 'rb'))"
   ]
  },
  {
   "cell_type": "markdown",
   "id": "95009bb4",
   "metadata": {},
   "source": [
    "ใส่ข้อมูลใหม่ให้โมเดลทำนาย และ `print` ผลการทำนายออกมาดู\n",
    "เช่น `5.2, 3.2, 1.1, 0.1` ซึ่งจริงๆแล้วคือข้อมูลของ iris สายพันธุ์ setosa"
   ]
  },
  {
   "cell_type": "code",
   "execution_count": 19,
   "id": "1c8ff02c",
   "metadata": {},
   "outputs": [
    {
     "name": "stdout",
     "output_type": "stream",
     "text": [
      "[[0.1, 0.2, 5.1, 0.1]]\n"
     ]
    }
   ],
   "source": [
    "#d = {'col1': [5.2], 'col2': [3.2] , 'col3': [1.1], 'col4': [0.1]}\n",
    "#X_new = pd.DataFrame(data=d)\n",
    "\n",
    "#d = [[ 5.2,  3.2,  1.1,  0.1]]\n",
    "\n",
    "d = [[ 0.1,  0.2,  5.1,  0.1]] # read from IMU sensor \n",
    "X_new = d\n",
    "print(X_new)"
   ]
  },
  {
   "cell_type": "code",
   "execution_count": 20,
   "id": "b9b2872a",
   "metadata": {},
   "outputs": [
    {
     "name": "stdout",
     "output_type": "stream",
     "text": [
      "['virginica']\n"
     ]
    }
   ],
   "source": [
    "y_new = loaded_model.predict(X_new)\n",
    "print(y_new)"
   ]
  }
 ],
 "metadata": {
  "kernelspec": {
   "display_name": "Python 3",
   "language": "python",
   "name": "python3"
  },
  "language_info": {
   "codemirror_mode": {
    "name": "ipython",
    "version": 3
   },
   "file_extension": ".py",
   "mimetype": "text/x-python",
   "name": "python",
   "nbconvert_exporter": "python",
   "pygments_lexer": "ipython3",
   "version": "3.6.7"
  }
 },
 "nbformat": 4,
 "nbformat_minor": 5
}
