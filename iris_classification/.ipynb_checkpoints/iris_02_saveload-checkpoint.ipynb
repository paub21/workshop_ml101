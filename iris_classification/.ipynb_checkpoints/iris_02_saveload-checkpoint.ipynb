{
 "cells": [
  {
   "cell_type": "markdown",
   "id": "fb991f56",
   "metadata": {},
   "source": [
    "**โดย ดร.ปกรณ์ ยุบลโกศล**"
   ]
  },
  {
   "cell_type": "markdown",
   "id": "1a1fff40",
   "metadata": {},
   "source": [
    "Notebook นี้แสดงให้เห็นการ train -> save -> load ในโปรแกรมเดียว แต่จริงๆแล้ว จะต้องแยกโปรแกรม train&save และ โปรแกรม load โดยหลังจาก train&save โมเดลเสร็จแล้ว ใช้โปรแกรมสำหรับโหลด load โมเดลขึ้นมาเพื่อทำการทำนาย"
   ]
  },
  {
   "cell_type": "markdown",
   "id": "2695e525",
   "metadata": {},
   "source": [
    "## 1) นำเข้าข้อมูล"
   ]
  },
  {
   "cell_type": "code",
   "execution_count": 2,
   "id": "4a55a60f",
   "metadata": {},
   "outputs": [],
   "source": [
    "import pandas as pd\n",
    "#url = 'https://raw.githubusercontent.com/BU-MLearning/Summer/master/iris.csv'\n",
    "#data = pd.read_csv(url)\n",
    "data = pd.read_csv('iris.csv')"
   ]
  },
  {
   "cell_type": "code",
   "execution_count": 3,
   "id": "a8fb0b4a",
   "metadata": {},
   "outputs": [],
   "source": [
    "#data.head(10)\n",
    "#data.shape"
   ]
  },
  {
   "cell_type": "code",
   "execution_count": 4,
   "id": "9fb8ecdd",
   "metadata": {},
   "outputs": [
    {
     "data": {
      "text/plain": [
       "(150, 2)"
      ]
     },
     "execution_count": 4,
     "metadata": {},
     "output_type": "execute_result"
    }
   ],
   "source": [
    "#data['species']\n",
    "data[['sepal_length', 'sepal_width']]\n",
    "data[['sepal_length', 'sepal_width']].shape"
   ]
  },
  {
   "cell_type": "code",
   "execution_count": 5,
   "id": "8038edcc",
   "metadata": {},
   "outputs": [],
   "source": [
    "setosa = data['species'] == \"setosa\"\n",
    "#print(data[setosa].shape) # ดูจำนวน\n",
    "#print(data[setosa].mean()) # ดู mean\n",
    "#setosa"
   ]
  },
  {
   "cell_type": "markdown",
   "id": "13f4e545",
   "metadata": {},
   "source": [
    "## 2) แยก features และ label\n",
    "\n",
    "หากต้องการทำนาย สายพันธ์ (species) ของดอก iris \n",
    "\n",
    "ดังนั้น <br>\n",
    "`species` จะเป็น label <br>\n",
    "`sepal_length`, `sepal_width`, `petal_length`, `petal_width` จะเป็น features\n",
    "\n",
    "แยก features เก็บไว้ใน matrix ใหม่ชื่อ `X` <br>\n",
    "แยก lable เก็บไว้ใน vector ใหม่ที่ชื่อ `y`"
   ]
  },
  {
   "cell_type": "code",
   "execution_count": 6,
   "id": "ee8536b8",
   "metadata": {},
   "outputs": [],
   "source": [
    "X = data.drop(['species'], axis=1)\n",
    "y = data[['species']]"
   ]
  },
  {
   "cell_type": "markdown",
   "id": "f44034a4",
   "metadata": {},
   "source": [
    "## 3) แบ่งข้อมูลเป็น 2 ส่วนเพื่อ train และ test\n",
    "ใช้ฟังชั่น `train_test_split` เพื่อแบ่งข้อมูลออกเป็น ข้อมูลสำหรับ train และสำหรับ test โดยในที่นี้ จะแบ่งข้อมูลไว้ 30% เพื่อทำการ test"
   ]
  },
  {
   "cell_type": "code",
   "execution_count": 7,
   "id": "098487b2",
   "metadata": {},
   "outputs": [],
   "source": [
    "from sklearn.model_selection import train_test_split\n",
    "\n",
    "X_train, X_test, y_train, y_test = train_test_split(X, y, test_size=0.3, random_state=113)"
   ]
  },
  {
   "cell_type": "markdown",
   "id": "e3a3ee1a",
   "metadata": {},
   "source": [
    "## 4) Train โมเดลด้วยข้อมูลที่แบ่งไว้\n",
    "ใช้ decision tree เป็น classifier และทำการสร้าง instance จาก `DecisionTreeClassifier()` คลาส"
   ]
  },
  {
   "cell_type": "code",
   "execution_count": 8,
   "id": "c43e9484",
   "metadata": {},
   "outputs": [],
   "source": [
    "from sklearn import tree\n",
    "model = tree.DecisionTreeClassifier()"
   ]
  },
  {
   "cell_type": "markdown",
   "id": "cb1afe30",
   "metadata": {},
   "source": [
    "ทำการ train โมเดล (หรือ fit) ด้วย `X_train` และ `y_train`"
   ]
  },
  {
   "cell_type": "code",
   "execution_count": 9,
   "id": "84ce1cd3",
   "metadata": {},
   "outputs": [
    {
     "data": {
      "text/plain": [
       "DecisionTreeClassifier()"
      ]
     },
     "execution_count": 9,
     "metadata": {},
     "output_type": "execute_result"
    }
   ],
   "source": [
    "model.fit(X_train, y_train)"
   ]
  },
  {
   "cell_type": "code",
   "execution_count": 10,
   "id": "af599330",
   "metadata": {},
   "outputs": [],
   "source": [
    "y_predict = model.predict(X_test)"
   ]
  },
  {
   "cell_type": "code",
   "execution_count": 11,
   "id": "55d9c707",
   "metadata": {},
   "outputs": [],
   "source": [
    "#print(y_predict)\n",
    "#print(y_test)"
   ]
  },
  {
   "cell_type": "markdown",
   "id": "93a712b0",
   "metadata": {},
   "source": [
    "## 5) วัดความแม่นยำของโมเดล"
   ]
  },
  {
   "cell_type": "markdown",
   "id": "993493bf",
   "metadata": {},
   "source": [
    "ใช้ `accuracy_score()` นับจำนวนค่าที่โมเดลทำนายถูกและผิด และคำนวนออกมาเป็นเปอร์เซ็นต์"
   ]
  },
  {
   "cell_type": "code",
   "execution_count": 12,
   "id": "7675178e",
   "metadata": {},
   "outputs": [
    {
     "name": "stdout",
     "output_type": "stream",
     "text": [
      "Prediction accuracy : 0.9777777777777777\n"
     ]
    }
   ],
   "source": [
    "from sklearn.metrics import accuracy_score\n",
    "accuracy_score(y_test, y_predict)\n",
    "print('Prediction accuracy : {}'.format(accuracy_score(y_test, y_predict)))"
   ]
  },
  {
   "cell_type": "markdown",
   "id": "a283770c",
   "metadata": {},
   "source": [
    "ลอง `print` ค่าที่โมเดลทำนายได้ออกมาดู บางส่วน"
   ]
  },
  {
   "cell_type": "code",
   "execution_count": 13,
   "id": "e0d95003",
   "metadata": {},
   "outputs": [],
   "source": [
    "#convert y_predict to dataframe and display\n",
    "#y_predict = pd.DataFrame(y_predict, columns = ['y_predict'])\n",
    "#y_predict.head()"
   ]
  },
  {
   "cell_type": "markdown",
   "id": "912c759b",
   "metadata": {},
   "source": [
    "## 6) Save โมเดลเก็บไว้บนเครื่อง\n",
    "ใช้ pickle ช่วยในการ save โมเดล"
   ]
  },
  {
   "cell_type": "code",
   "execution_count": 14,
   "id": "ad18a6c1",
   "metadata": {},
   "outputs": [],
   "source": [
    "import pickle\n",
    "# save the model to disk\n",
    "filename = 'pickle_finalized_model.sav'\n",
    "pickle.dump(model, open(filename, 'wb'))"
   ]
  },
  {
   "cell_type": "markdown",
   "id": "368902d4",
   "metadata": {},
   "source": [
    "## 7) โหลดโมเดลที่ save เก็บไว้ขึ้นมาใช้กับข้อมูลใหม่\n",
    "ลองสมมติข้อมูลใหม่ขึ้นมา ในที่นี้คือ `5.2, 3.2, 1.1, 0.1`"
   ]
  },
  {
   "cell_type": "code",
   "execution_count": 15,
   "id": "97aa5e6f",
   "metadata": {},
   "outputs": [
    {
     "name": "stdout",
     "output_type": "stream",
     "text": [
      "[[5.2, 3.2, 1.1, 0.1]]\n"
     ]
    }
   ],
   "source": [
    "#d = {'col1': [5.2], 'col2': [3.2] , 'col3': [1.1], 'col4': [0.1]}\n",
    "#X_new = pd.DataFrame(data=d)\n",
    "\n",
    "d = [[ 5.2,  3.2,  1.1,  0.1]]\n",
    "X_new = d\n",
    "print(X_new)"
   ]
  },
  {
   "cell_type": "markdown",
   "id": "dcac82d6",
   "metadata": {},
   "source": [
    "ใช้ pickle ช่วยในการโหลดโมเดลกลับมาใช้ทำนายข้อมูล"
   ]
  },
  {
   "cell_type": "code",
   "execution_count": 16,
   "id": "1f1c8a54",
   "metadata": {},
   "outputs": [],
   "source": [
    "# load the model from disk\n",
    "loaded_model = pickle.load(open(filename, 'rb'))"
   ]
  },
  {
   "cell_type": "markdown",
   "id": "5e5f24e8",
   "metadata": {},
   "source": [
    "ใส่ข้อมูลใหม่ให้โมเดลทำนาย และ `print` ผลการทำนายออกมาดู"
   ]
  },
  {
   "cell_type": "code",
   "execution_count": 17,
   "id": "030d11df",
   "metadata": {},
   "outputs": [
    {
     "name": "stdout",
     "output_type": "stream",
     "text": [
      "['setosa']\n"
     ]
    }
   ],
   "source": [
    "y_new = loaded_model.predict(X_new)\n",
    "print(y_new)"
   ]
  },
  {
   "cell_type": "markdown",
   "id": "6935c1da",
   "metadata": {},
   "source": [
    "## 8) ลองดูโมเดล Tree ที่ได้จากการ train \n",
    "\n",
    "หมายเหตุ: การแสดงผลแบบนี้ทำได้กับ Decision Tree เท่านั้น"
   ]
  },
  {
   "cell_type": "code",
   "execution_count": 19,
   "id": "780934b8",
   "metadata": {},
   "outputs": [
    {
     "name": "stdout",
     "output_type": "stream",
     "text": [
      "|--- petal_width <= 0.75\n",
      "|   |--- class: setosa\n",
      "|--- petal_width >  0.75\n",
      "|   |--- petal_width <= 1.75\n",
      "|   |   |--- petal_length <= 4.95\n",
      "|   |   |   |--- class: versicolor\n",
      "|   |   |--- petal_length >  4.95\n",
      "|   |   |   |--- petal_width <= 1.55\n",
      "|   |   |   |   |--- class: virginica\n",
      "|   |   |   |--- petal_width >  1.55\n",
      "|   |   |   |   |--- sepal_length <= 6.95\n",
      "|   |   |   |   |   |--- class: versicolor\n",
      "|   |   |   |   |--- sepal_length >  6.95\n",
      "|   |   |   |   |   |--- class: virginica\n",
      "|   |--- petal_width >  1.75\n",
      "|   |   |--- petal_length <= 4.85\n",
      "|   |   |   |--- sepal_length <= 5.95\n",
      "|   |   |   |   |--- class: versicolor\n",
      "|   |   |   |--- sepal_length >  5.95\n",
      "|   |   |   |   |--- class: virginica\n",
      "|   |   |--- petal_length >  4.85\n",
      "|   |   |   |--- class: virginica\n",
      "\n"
     ]
    }
   ],
   "source": [
    "from sklearn.tree.export import export_text\n",
    "tree_rules = export_text(loaded_model, feature_names=list(X_train))\n",
    "print(tree_rules)"
   ]
  },
  {
   "cell_type": "code",
   "execution_count": null,
   "id": "db4b8807",
   "metadata": {},
   "outputs": [],
   "source": []
  }
 ],
 "metadata": {
  "kernelspec": {
   "display_name": "Python 3",
   "language": "python",
   "name": "python3"
  },
  "language_info": {
   "codemirror_mode": {
    "name": "ipython",
    "version": 3
   },
   "file_extension": ".py",
   "mimetype": "text/x-python",
   "name": "python",
   "nbconvert_exporter": "python",
   "pygments_lexer": "ipython3",
   "version": "3.6.7"
  }
 },
 "nbformat": 4,
 "nbformat_minor": 5
}
