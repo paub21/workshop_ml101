{
 "cells": [
  {
   "cell_type": "markdown",
   "id": "8d6a8011",
   "metadata": {},
   "source": [
    "# Classification สายพันธุ์ดอก Iris\n",
    "\n",
    "ดอก iris มีทั้งหมด 3 สายพันธ์ุ โดยข้อมูลที่มีคนไปเก็บมาคือข้อมูล ความกว้างและความยาวของกลีบดอก (petal) และ ของกลีบเลี้ยง (sepal) \n",
    "\n",
    "![alt text](https://miro.medium.com/max/1400/0*KxNh2-1TGjFTRZID.png)"
   ]
  },
  {
   "cell_type": "markdown",
   "id": "164d19b0",
   "metadata": {},
   "source": [
    "ทำนายสายพันธ์ุของดอก Iris (3 สายพันธ์ุ คือ setosa, versicolor, verginica) โดยมีจำนวนข้อมูลเท่ากันทุก class (setosa = 50, versiclor = 50, verginica = 50) ข้อมูลแต่ละชุดประกอบด้วย features = 4 ตัวแปร และ lable = 1 ตัวแปร \n",
    "\n",
    "ชื่อของแต่ละตัวแปรมีดังนี้ \n",
    "\n",
    "Sepal length in cm.<br /> \n",
    "Sepal width in cm.<br /> \n",
    "Petal length in cm.<br /> \n",
    "Petal width in cm.<br /> \n",
    "Class (Iris Setosa, Iris Versicolour, Iris Virginica).<br /> \n",
    "\n",
    "ตัวอย่างข้อมูลเป็นดังนี้\n",
    "\n",
    "`5.1, 3.5, 1.4, 0.2, Iris-setosa`<br /> \n",
    " `4.9, 3.0, 1.4, 0.2, Iris-setosa`<br /> \n",
    " `4.7, 3.2, 1.3, 0.2, Iris-setosa`<br /> \n",
    " `4.6, 3.1, 1.5, 0.2, Iris-setosa`<br /> \n",
    " `5.0, 3.6, 1.4, 0.2, Iris-setosa`<br /> "
   ]
  },
  {
   "cell_type": "markdown",
   "id": "682ee8f4",
   "metadata": {},
   "source": [
    "**ขั้นตอนประกอบด้วย**\n",
    "1. นำเข้าข้อมูล\n",
    "2. แยก features และ label\n",
    "3. แบ่งข้อมูลเป็น 2 ส่วนเพื่อ train และ test\n",
    "4. train โมเดลด้วยข้อมูลที่แบ่งไว้\n",
    "5. วัดประสิทธิภาพของโมเดล\n",
    "6. นำโมเดลไปใช้กับข้อมูลใหม่"
   ]
  },
  {
   "cell_type": "markdown",
   "id": "91a75c33",
   "metadata": {},
   "source": [
    "## 1) นำเข้าข้อมูล"
   ]
  },
  {
   "cell_type": "code",
   "execution_count": 1,
   "id": "4bc3ea55",
   "metadata": {},
   "outputs": [],
   "source": [
    "import pandas as pd\n",
    "#url = 'https://raw.githubusercontent.com/BU-MLearning/Summer/master/iris.csv' # สามารถนำเข้าจาก URLได้เช่นกัน \n",
    "#data = pd.read_csv(url)\n",
    "data = pd.read_csv('iris.csv')"
   ]
  },
  {
   "cell_type": "code",
   "execution_count": 2,
   "id": "137179ac",
   "metadata": {},
   "outputs": [
    {
     "data": {
      "text/html": [
       "<div>\n",
       "<style scoped>\n",
       "    .dataframe tbody tr th:only-of-type {\n",
       "        vertical-align: middle;\n",
       "    }\n",
       "\n",
       "    .dataframe tbody tr th {\n",
       "        vertical-align: top;\n",
       "    }\n",
       "\n",
       "    .dataframe thead th {\n",
       "        text-align: right;\n",
       "    }\n",
       "</style>\n",
       "<table border=\"1\" class=\"dataframe\">\n",
       "  <thead>\n",
       "    <tr style=\"text-align: right;\">\n",
       "      <th></th>\n",
       "      <th>sepal_length</th>\n",
       "      <th>sepal_width</th>\n",
       "      <th>petal_length</th>\n",
       "      <th>petal_width</th>\n",
       "      <th>species</th>\n",
       "    </tr>\n",
       "  </thead>\n",
       "  <tbody>\n",
       "    <tr>\n",
       "      <th>0</th>\n",
       "      <td>5.1</td>\n",
       "      <td>3.5</td>\n",
       "      <td>1.4</td>\n",
       "      <td>0.2</td>\n",
       "      <td>setosa</td>\n",
       "    </tr>\n",
       "    <tr>\n",
       "      <th>1</th>\n",
       "      <td>4.9</td>\n",
       "      <td>3.0</td>\n",
       "      <td>1.4</td>\n",
       "      <td>0.2</td>\n",
       "      <td>setosa</td>\n",
       "    </tr>\n",
       "    <tr>\n",
       "      <th>2</th>\n",
       "      <td>4.7</td>\n",
       "      <td>3.2</td>\n",
       "      <td>1.3</td>\n",
       "      <td>0.2</td>\n",
       "      <td>setosa</td>\n",
       "    </tr>\n",
       "    <tr>\n",
       "      <th>3</th>\n",
       "      <td>4.6</td>\n",
       "      <td>3.1</td>\n",
       "      <td>1.5</td>\n",
       "      <td>0.2</td>\n",
       "      <td>setosa</td>\n",
       "    </tr>\n",
       "    <tr>\n",
       "      <th>4</th>\n",
       "      <td>5.0</td>\n",
       "      <td>3.6</td>\n",
       "      <td>1.4</td>\n",
       "      <td>0.2</td>\n",
       "      <td>setosa</td>\n",
       "    </tr>\n",
       "    <tr>\n",
       "      <th>5</th>\n",
       "      <td>5.4</td>\n",
       "      <td>3.9</td>\n",
       "      <td>1.7</td>\n",
       "      <td>0.4</td>\n",
       "      <td>setosa</td>\n",
       "    </tr>\n",
       "    <tr>\n",
       "      <th>6</th>\n",
       "      <td>4.6</td>\n",
       "      <td>3.4</td>\n",
       "      <td>1.4</td>\n",
       "      <td>0.3</td>\n",
       "      <td>setosa</td>\n",
       "    </tr>\n",
       "    <tr>\n",
       "      <th>7</th>\n",
       "      <td>5.0</td>\n",
       "      <td>3.4</td>\n",
       "      <td>1.5</td>\n",
       "      <td>0.2</td>\n",
       "      <td>setosa</td>\n",
       "    </tr>\n",
       "    <tr>\n",
       "      <th>8</th>\n",
       "      <td>4.4</td>\n",
       "      <td>2.9</td>\n",
       "      <td>1.4</td>\n",
       "      <td>0.2</td>\n",
       "      <td>setosa</td>\n",
       "    </tr>\n",
       "    <tr>\n",
       "      <th>9</th>\n",
       "      <td>4.9</td>\n",
       "      <td>3.1</td>\n",
       "      <td>1.5</td>\n",
       "      <td>0.1</td>\n",
       "      <td>setosa</td>\n",
       "    </tr>\n",
       "  </tbody>\n",
       "</table>\n",
       "</div>"
      ],
      "text/plain": [
       "   sepal_length  sepal_width  petal_length  petal_width species\n",
       "0           5.1          3.5           1.4          0.2  setosa\n",
       "1           4.9          3.0           1.4          0.2  setosa\n",
       "2           4.7          3.2           1.3          0.2  setosa\n",
       "3           4.6          3.1           1.5          0.2  setosa\n",
       "4           5.0          3.6           1.4          0.2  setosa\n",
       "5           5.4          3.9           1.7          0.4  setosa\n",
       "6           4.6          3.4           1.4          0.3  setosa\n",
       "7           5.0          3.4           1.5          0.2  setosa\n",
       "8           4.4          2.9           1.4          0.2  setosa\n",
       "9           4.9          3.1           1.5          0.1  setosa"
      ]
     },
     "execution_count": 2,
     "metadata": {},
     "output_type": "execute_result"
    }
   ],
   "source": [
    "data.head(10)\n",
    "#data.shape"
   ]
  },
  {
   "cell_type": "code",
   "execution_count": 3,
   "id": "b7930745",
   "metadata": {},
   "outputs": [
    {
     "data": {
      "text/plain": [
       "(150, 2)"
      ]
     },
     "execution_count": 3,
     "metadata": {},
     "output_type": "execute_result"
    }
   ],
   "source": [
    "#data['species']\n",
    "data[['sepal_length', 'sepal_width']]\n",
    "data[['sepal_length', 'sepal_width']].shape"
   ]
  },
  {
   "cell_type": "code",
   "execution_count": 4,
   "id": "cd4c46d9",
   "metadata": {},
   "outputs": [
    {
     "name": "stdout",
     "output_type": "stream",
     "text": [
      "(50, 5)\n",
      "sepal_length    5.006\n",
      "sepal_width     3.418\n",
      "petal_length    1.464\n",
      "petal_width     0.244\n",
      "dtype: float64\n"
     ]
    }
   ],
   "source": [
    "setosa = data['species'] == \"setosa\"\n",
    "print(data[setosa].shape) # ดูจำนวน\n",
    "print(data[setosa].mean()) # ดู mean\n",
    "#setosa"
   ]
  },
  {
   "cell_type": "markdown",
   "id": "32bbca83",
   "metadata": {},
   "source": [
    "## 2) แยก features และ label\n",
    "\n",
    "หากต้องการทำนาย สายพันธ์ (species) ของดอก iris \n",
    "\n",
    "ดังนั้น <br>\n",
    "`species` จะเป็น label <br>\n",
    "`sepal_length`, `sepal_width`, `petal_length`, `petal_width` จะเป็น features\n",
    "\n",
    "แยก features เก็บไว้ใน matrix ใหม่ชื่อ `X` <br>\n",
    "แยก lable เก็บไว้ใน vector ใหม่ที่ชื่อ `y`"
   ]
  },
  {
   "cell_type": "code",
   "execution_count": 5,
   "id": "67128cc2",
   "metadata": {},
   "outputs": [],
   "source": [
    "X = data.drop(['species'], axis=1)\n",
    "y = data[['species']]"
   ]
  },
  {
   "cell_type": "markdown",
   "id": "ec3ef0e2",
   "metadata": {},
   "source": [
    "## 3) แบ่งข้อมูลเป็น 2 ส่วนเพื่อ train และ test\n",
    "ใช้ฟังชั่น `train_test_split` เพื่อแบ่งข้อมูลออกเป็น ข้อมูลสำหรับ train และสำหรับ test โดยในที่นี้ จะแบ่งข้อมูลไว้ 30% เพื่อทำการ test"
   ]
  },
  {
   "cell_type": "code",
   "execution_count": 6,
   "id": "79564506",
   "metadata": {},
   "outputs": [],
   "source": [
    "from sklearn.model_selection import train_test_split\n",
    "\n",
    "X_train, X_test, y_train, y_test = train_test_split(X, y, test_size=0.3, random_state=113)"
   ]
  },
  {
   "cell_type": "markdown",
   "id": "e21585cd",
   "metadata": {},
   "source": [
    "## 4) Train โมเดลด้วยข้อมูลที่แบ่งไว้\n",
    "ใช้ decision tree เป็น classifier และทำการสร้าง instance จาก `DecisionTreeClassifier()` คลาส"
   ]
  },
  {
   "cell_type": "code",
   "execution_count": 7,
   "id": "329087c1",
   "metadata": {},
   "outputs": [],
   "source": [
    "from sklearn import tree\n",
    "model = tree.DecisionTreeClassifier()"
   ]
  },
  {
   "cell_type": "markdown",
   "id": "40d4fb2e",
   "metadata": {},
   "source": [
    "ทำการ train โมเดล (หรือ fit) ด้วย `X_train` และ `y_train`"
   ]
  },
  {
   "cell_type": "code",
   "execution_count": 8,
   "id": "92e69fe0",
   "metadata": {},
   "outputs": [
    {
     "data": {
      "text/plain": [
       "DecisionTreeClassifier()"
      ]
     },
     "execution_count": 8,
     "metadata": {},
     "output_type": "execute_result"
    }
   ],
   "source": [
    "model.fit(X_train, y_train)"
   ]
  },
  {
   "cell_type": "code",
   "execution_count": 9,
   "id": "9f19a5c7",
   "metadata": {},
   "outputs": [],
   "source": [
    "y_predict = model.predict(X_test)"
   ]
  },
  {
   "cell_type": "code",
   "execution_count": 10,
   "id": "7f6091f3",
   "metadata": {},
   "outputs": [
    {
     "name": "stdout",
     "output_type": "stream",
     "text": [
      "['setosa' 'setosa' 'versicolor' 'virginica' 'setosa' 'virginica'\n",
      " 'virginica' 'virginica' 'setosa' 'virginica' 'virginica' 'setosa'\n",
      " 'virginica' 'setosa' 'virginica' 'virginica' 'versicolor' 'setosa'\n",
      " 'versicolor' 'setosa' 'versicolor' 'setosa' 'virginica' 'virginica'\n",
      " 'setosa' 'setosa' 'setosa' 'virginica' 'virginica' 'versicolor'\n",
      " 'virginica' 'versicolor' 'versicolor' 'setosa' 'versicolor' 'setosa'\n",
      " 'virginica' 'setosa' 'virginica' 'versicolor' 'versicolor' 'setosa'\n",
      " 'versicolor' 'virginica' 'setosa']\n"
     ]
    }
   ],
   "source": [
    "print(y_predict)\n",
    "#print(y_test)"
   ]
  },
  {
   "cell_type": "markdown",
   "id": "bb077039",
   "metadata": {},
   "source": [
    "## 5) วัดความแม่นยำของโมเดล"
   ]
  },
  {
   "cell_type": "markdown",
   "id": "12ccede7",
   "metadata": {},
   "source": [
    "ใช้ `accuracy_score()` นับจำนวนค่าที่โมเดลทำนายถูกและผิด และคำนวนออกมาเป็นเปอร์เซ็นต์"
   ]
  },
  {
   "cell_type": "code",
   "execution_count": 11,
   "id": "7873b477",
   "metadata": {},
   "outputs": [
    {
     "name": "stdout",
     "output_type": "stream",
     "text": [
      "Prediction accuracy : 0.9777777777777777\n"
     ]
    }
   ],
   "source": [
    "from sklearn.metrics import accuracy_score\n",
    "accuracy_score(y_test, y_predict)\n",
    "print('Prediction accuracy : {}'.format(accuracy_score(y_test, y_predict)))"
   ]
  },
  {
   "cell_type": "markdown",
   "id": "4adc7a7f",
   "metadata": {},
   "source": [
    "ลอง `print` ค่าที่โมเดลทำนายได้ออกมาดู บางส่วน"
   ]
  },
  {
   "cell_type": "code",
   "execution_count": 12,
   "id": "7d4f7cb1",
   "metadata": {},
   "outputs": [
    {
     "data": {
      "text/html": [
       "<div>\n",
       "<style scoped>\n",
       "    .dataframe tbody tr th:only-of-type {\n",
       "        vertical-align: middle;\n",
       "    }\n",
       "\n",
       "    .dataframe tbody tr th {\n",
       "        vertical-align: top;\n",
       "    }\n",
       "\n",
       "    .dataframe thead th {\n",
       "        text-align: right;\n",
       "    }\n",
       "</style>\n",
       "<table border=\"1\" class=\"dataframe\">\n",
       "  <thead>\n",
       "    <tr style=\"text-align: right;\">\n",
       "      <th></th>\n",
       "      <th>y_predict</th>\n",
       "    </tr>\n",
       "  </thead>\n",
       "  <tbody>\n",
       "    <tr>\n",
       "      <th>0</th>\n",
       "      <td>setosa</td>\n",
       "    </tr>\n",
       "    <tr>\n",
       "      <th>1</th>\n",
       "      <td>setosa</td>\n",
       "    </tr>\n",
       "    <tr>\n",
       "      <th>2</th>\n",
       "      <td>versicolor</td>\n",
       "    </tr>\n",
       "    <tr>\n",
       "      <th>3</th>\n",
       "      <td>virginica</td>\n",
       "    </tr>\n",
       "    <tr>\n",
       "      <th>4</th>\n",
       "      <td>setosa</td>\n",
       "    </tr>\n",
       "  </tbody>\n",
       "</table>\n",
       "</div>"
      ],
      "text/plain": [
       "    y_predict\n",
       "0      setosa\n",
       "1      setosa\n",
       "2  versicolor\n",
       "3   virginica\n",
       "4      setosa"
      ]
     },
     "execution_count": 12,
     "metadata": {},
     "output_type": "execute_result"
    }
   ],
   "source": [
    "#convert y_predict to dataframe and display\n",
    "y_predict = pd.DataFrame(y_predict, columns = ['y_predict'])\n",
    "y_predict.head()"
   ]
  },
  {
   "cell_type": "markdown",
   "id": "721a1d21",
   "metadata": {},
   "source": [
    "## 6) การนำโมเดลไปใช้กับข้อมูลใหม่\n",
    "ลองสมมติข้อมูลใหม่ขึ้นมา ในที่นี้คือ `5.2, 3.2, 1.1, 0.1`"
   ]
  },
  {
   "cell_type": "code",
   "execution_count": 13,
   "id": "baf0c3a7",
   "metadata": {},
   "outputs": [
    {
     "name": "stdout",
     "output_type": "stream",
     "text": [
      "[[5.2, 3.2, 1.1, 0.1]]\n"
     ]
    }
   ],
   "source": [
    "#d = {'col1': [5.2], 'col2': [3.2] , 'col3': [1.1], 'col4': [0.1]}\n",
    "#X_new = pd.DataFrame(data=d)\n",
    "\n",
    "d = [[ 5.2,  3.2,  1.1,  0.1]]\n",
    "X_new = d\n",
    "print(X_new)"
   ]
  },
  {
   "cell_type": "markdown",
   "id": "16f782d2",
   "metadata": {},
   "source": [
    "ใส่ข้อมูลใหม่ให้โมเดลทำนาย และ `print` ผลการทำนายออกมาดู"
   ]
  },
  {
   "cell_type": "code",
   "execution_count": 14,
   "id": "2d7a8d82",
   "metadata": {},
   "outputs": [
    {
     "name": "stdout",
     "output_type": "stream",
     "text": [
      "['setosa']\n"
     ]
    }
   ],
   "source": [
    "y_new = model.predict(X_new)\n",
    "print(y_new)"
   ]
  },
  {
   "cell_type": "markdown",
   "id": "6c745646",
   "metadata": {},
   "source": [
    "## 7) ลองดูโมเดล Tree ที่ได้จากการ train \n",
    "\n",
    "หมายเหตุ: การแสดงผลแบบนี้ทำได้กับ Decision Tree เท่านั้น"
   ]
  },
  {
   "cell_type": "code",
   "execution_count": 15,
   "id": "10b02735",
   "metadata": {},
   "outputs": [
    {
     "name": "stdout",
     "output_type": "stream",
     "text": [
      "|--- petal_length <= 2.45\n",
      "|   |--- class: setosa\n",
      "|--- petal_length >  2.45\n",
      "|   |--- petal_width <= 1.75\n",
      "|   |   |--- petal_length <= 4.95\n",
      "|   |   |   |--- class: versicolor\n",
      "|   |   |--- petal_length >  4.95\n",
      "|   |   |   |--- petal_width <= 1.55\n",
      "|   |   |   |   |--- class: virginica\n",
      "|   |   |   |--- petal_width >  1.55\n",
      "|   |   |   |   |--- sepal_length <= 6.95\n",
      "|   |   |   |   |   |--- class: versicolor\n",
      "|   |   |   |   |--- sepal_length >  6.95\n",
      "|   |   |   |   |   |--- class: virginica\n",
      "|   |--- petal_width >  1.75\n",
      "|   |   |--- petal_length <= 4.85\n",
      "|   |   |   |--- sepal_width <= 3.10\n",
      "|   |   |   |   |--- class: virginica\n",
      "|   |   |   |--- sepal_width >  3.10\n",
      "|   |   |   |   |--- class: versicolor\n",
      "|   |   |--- petal_length >  4.85\n",
      "|   |   |   |--- class: virginica\n",
      "\n"
     ]
    },
    {
     "name": "stderr",
     "output_type": "stream",
     "text": [
      "c:\\users\\george\\appdata\\local\\programs\\python\\python36\\lib\\site-packages\\sklearn\\utils\\deprecation.py:143: FutureWarning: The sklearn.tree.export module is  deprecated in version 0.22 and will be removed in version 0.24. The corresponding classes / functions should instead be imported from sklearn.tree. Anything that cannot be imported from sklearn.tree is now part of the private API.\n",
      "  warnings.warn(message, FutureWarning)\n"
     ]
    }
   ],
   "source": [
    "from sklearn.tree.export import export_text\n",
    "tree_rules = export_text(model, feature_names=list(X_train))\n",
    "print(tree_rules)"
   ]
  },
  {
   "cell_type": "markdown",
   "id": "f95b7ac7",
   "metadata": {},
   "source": [
    "## 8) ดู Confusion matrix"
   ]
  },
  {
   "cell_type": "code",
   "execution_count": 16,
   "id": "f1ff6e13",
   "metadata": {},
   "outputs": [
    {
     "name": "stdout",
     "output_type": "stream",
     "text": [
      "Confusion matrix, without normalization\n",
      "[[17  0  0]\n",
      " [ 0 10  0]\n",
      " [ 0  1 17]]\n"
     ]
    }
   ],
   "source": [
    "from sklearn.metrics import plot_confusion_matrix\n",
    "import matplotlib.pyplot as plt\n",
    "\n",
    "# Plot non-normalized confusion matrix\n",
    "titles_options = [(\"Confusion matrix, without normalization\", None)]\n",
    "for title, normalize in titles_options:\n",
    "    disp = plot_confusion_matrix(model, X_test, y_test,\n",
    "                                 cmap=plt.cm.Blues,\n",
    "                                 normalize=normalize)\n",
    "    disp.ax_.set_title(title)\n",
    "\n",
    "    print(title)\n",
    "    print(disp.confusion_matrix)\n",
    "\n"
   ]
  },
  {
   "cell_type": "code",
   "execution_count": null,
   "id": "abb4d93f",
   "metadata": {},
   "outputs": [],
   "source": []
  },
  {
   "cell_type": "code",
   "execution_count": null,
   "id": "607d04d2",
   "metadata": {},
   "outputs": [],
   "source": []
  }
 ],
 "metadata": {
  "kernelspec": {
   "display_name": "Python 3",
   "language": "python",
   "name": "python3"
  },
  "language_info": {
   "codemirror_mode": {
    "name": "ipython",
    "version": 3
   },
   "file_extension": ".py",
   "mimetype": "text/x-python",
   "name": "python",
   "nbconvert_exporter": "python",
   "pygments_lexer": "ipython3",
   "version": "3.6.7"
  }
 },
 "nbformat": 4,
 "nbformat_minor": 5
}
